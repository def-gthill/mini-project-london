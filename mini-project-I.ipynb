{
 "cells": [
  {
   "cell_type": "markdown",
   "metadata": {},
   "source": [
    "# Mini-Project I\n",
    "During this project, we will practice handling of complex lists and dictionaries in Python. Plus, we will learn how to work with API documentation. Don't be afraid to search for the information in the [**documentation**](https://api.tfl.gov.uk/swagger/ui/index.html?url=/swagger/docs/v1#!/AccidentStats/AccidentStats_Get).\n",
    "\n",
    "Let's go to the tasks, we have some parsing to do :)!!"
   ]
  },
  {
   "cell_type": "code",
   "execution_count": 31,
   "metadata": {},
   "outputs": [],
   "source": [
    "import requests as re\n",
    "from IPython.display import JSON\n",
    "\n",
    "import tfl_env as env"
   ]
  },
  {
   "cell_type": "markdown",
   "metadata": {},
   "source": [
    "## Demo"
   ]
  },
  {
   "cell_type": "code",
   "execution_count": 2,
   "metadata": {},
   "outputs": [],
   "source": [
    "app_id = env.PRIMARY_KEY\n",
    "app_key = env.SECONDARY_KEY\n",
    "url_append = f'?app_id={app_id}&app_key={app_key}' "
   ]
  },
  {
   "cell_type": "code",
   "execution_count": 3,
   "metadata": {},
   "outputs": [
    {
     "name": "stdout",
     "output_type": "stream",
     "text": [
      "?app_id=e5d1123c6c2e491c98b70b1f3e943b87&app_key=c2bfa03caef04faca902f1a58a966c69\n"
     ]
    }
   ],
   "source": [
    "print(url_append)"
   ]
  },
  {
   "cell_type": "code",
   "execution_count": 4,
   "metadata": {},
   "outputs": [],
   "source": [
    "def get_tfl(endpoint, **params):\n",
    "    params[\"app_id\"] = app_id\n",
    "    params[\"app_key\"] = app_key\n",
    "    return re.get(\n",
    "        f\"https://api.tfl.gov.uk/{endpoint}\",\n",
    "        params\n",
    "    )"
   ]
  },
  {
   "cell_type": "code",
   "execution_count": 5,
   "metadata": {},
   "outputs": [],
   "source": [
    "res = get_tfl(\"AirQuality\")"
   ]
  },
  {
   "cell_type": "code",
   "execution_count": 6,
   "metadata": {},
   "outputs": [
    {
     "data": {
      "text/plain": [
       "200"
      ]
     },
     "execution_count": 6,
     "metadata": {},
     "output_type": "execute_result"
    }
   ],
   "source": [
    "res.status_code"
   ]
  },
  {
   "cell_type": "code",
   "execution_count": 7,
   "metadata": {},
   "outputs": [],
   "source": [
    "air = res.json()"
   ]
  },
  {
   "cell_type": "markdown",
   "metadata": {},
   "source": [
    "## Task\n",
    "Parse the dictionary and print the AirQuality predictions for tomorrow"
   ]
  },
  {
   "cell_type": "code",
   "execution_count": 8,
   "metadata": {},
   "outputs": [],
   "source": [
    "def find_with_value(ls, key, value):\n",
    "    \"\"\"\n",
    "    In list of dictionaries ``ls``, find the first dictionary\n",
    "    that maps ``key`` to ``value``\n",
    "    \"\"\"\n",
    "    for d in ls:\n",
    "        if key in d and d[key] == value:\n",
    "            return d"
   ]
  },
  {
   "cell_type": "code",
   "execution_count": 9,
   "metadata": {},
   "outputs": [
    {
     "name": "stdout",
     "output_type": "stream",
     "text": [
      "Nitrogen Dioxide: Low\n",
      "Ozone: Low\n",
      "PM10 Particulate: Low\n",
      "PM2.5 Particulate: Low\n",
      "Sulphur Dioxide: Low\n"
     ]
    }
   ],
   "source": [
    "forecast = find_with_value(\n",
    "    air['currentForecast'], 'forecastType', 'Future'\n",
    ")\n",
    "pollutant_types = {\n",
    "    'Nitrogen Dioxide': 'nO2Band',\n",
    "    'Ozone': 'o3Band',\n",
    "    'PM10 Particulate': 'pM10Band',\n",
    "    'PM2.5 Particulate': 'pM25Band',\n",
    "    'Sulphur Dioxide': 'sO2Band',\n",
    "}\n",
    "forecast_string = \"\\n\".join(\n",
    "    f\"{name}: {forecast[key]}\" for name, key in pollutant_types.items()\n",
    ")\n",
    "print(forecast_string)"
   ]
  },
  {
   "cell_type": "markdown",
   "metadata": {},
   "source": [
    "## Task\n",
    "What are the different modes of transport which are operated by Transport for London? How many modes do they have?\n",
    "\n",
    "Print the list with different modes of transport, plus their count. Example output:\n",
    "```\n",
    "[bus, cable-car,.....]\n",
    "Number of different modes of transport is: xyz\n",
    "```\n",
    "\n",
    "We need to search the documentation for correct request."
   ]
  },
  {
   "cell_type": "code",
   "execution_count": 10,
   "metadata": {},
   "outputs": [],
   "source": [
    "mode_res = get_tfl(\"Line/Meta/Modes\")"
   ]
  },
  {
   "cell_type": "code",
   "execution_count": 11,
   "metadata": {},
   "outputs": [],
   "source": [
    "mode_json = mode_res.json()"
   ]
  },
  {
   "cell_type": "code",
   "execution_count": 12,
   "metadata": {},
   "outputs": [
    {
     "name": "stdout",
     "output_type": "stream",
     "text": [
      "[bus, cable-car, cycle-hire, dlr, overground, replacement-bus, river-bus, river-tour, tflrail, tram, tube]\n",
      "There are 11 different modes of transport\n"
     ]
    }
   ],
   "source": [
    "modes = [mode['modeName'] for mode in mode_json if mode['isTflService']]\n",
    "print(f\"[{', '.join(modes)}]\")\n",
    "print(f\"There are {len(modes)} different modes of transport\")"
   ]
  },
  {
   "cell_type": "markdown",
   "metadata": {},
   "source": [
    "## Task\n",
    "How many BikePoints in London are operated by Transport for London? How many docks are in **all** BikePoints? There is the information for empty and full docks for each BikePoint."
   ]
  },
  {
   "cell_type": "code",
   "execution_count": 13,
   "metadata": {},
   "outputs": [],
   "source": [
    "bike_res = get_tfl(\"BikePoint\")"
   ]
  },
  {
   "cell_type": "code",
   "execution_count": 14,
   "metadata": {},
   "outputs": [
    {
     "name": "stdout",
     "output_type": "stream",
     "text": [
      "There are 792 BikePoints in London\n"
     ]
    }
   ],
   "source": [
    "bike_json = bike_res.json()\n",
    "print(f\"There are {len(bike_json)} BikePoints in London\")"
   ]
  },
  {
   "cell_type": "code",
   "execution_count": 15,
   "metadata": {},
   "outputs": [
    {
     "name": "stdout",
     "output_type": "stream",
     "text": [
      "There are 21056 total docks at all BikePoints\n"
     ]
    }
   ],
   "source": [
    "total_docks = sum(\n",
    "    int(\n",
    "        find_with_value(\n",
    "            bike_point['additionalProperties'], 'key', 'NbDocks'\n",
    "        )['value']\n",
    "    )\n",
    "    for bike_point in bike_json\n",
    ")\n",
    "print(f\"There are {total_docks} total docks at all BikePoints\")"
   ]
  },
  {
   "cell_type": "markdown",
   "metadata": {},
   "source": [
    "## Task\n",
    "How many tube and bus lines are in London? Print names of all tube lines."
   ]
  },
  {
   "cell_type": "code",
   "execution_count": 16,
   "metadata": {},
   "outputs": [],
   "source": [
    "tube_line_res = get_tfl(\"Line/Mode/tube\")"
   ]
  },
  {
   "cell_type": "code",
   "execution_count": 17,
   "metadata": {},
   "outputs": [],
   "source": [
    "bus_line_res = get_tfl(\"Line/Mode/bus\")"
   ]
  },
  {
   "cell_type": "code",
   "execution_count": 18,
   "metadata": {},
   "outputs": [
    {
     "name": "stdout",
     "output_type": "stream",
     "text": [
      "There are 11 tube lines and 679 bus lines\n"
     ]
    }
   ],
   "source": [
    "tube_json = tube_line_res.json()\n",
    "bus_json = bus_line_res.json()\n",
    "print(f\"There are {len(tube_json)} tube lines and {len(bus_json)} bus lines\")"
   ]
  },
  {
   "cell_type": "code",
   "execution_count": 19,
   "metadata": {},
   "outputs": [
    {
     "name": "stdout",
     "output_type": "stream",
     "text": [
      "Bakerloo\n",
      "Central\n",
      "Circle\n",
      "District\n",
      "Hammersmith & City\n",
      "Jubilee\n",
      "Metropolitan\n",
      "Northern\n",
      "Piccadilly\n",
      "Victoria\n",
      "Waterloo & City\n"
     ]
    }
   ],
   "source": [
    "for line in tube_json:\n",
    "    print(line['name'])"
   ]
  },
  {
   "cell_type": "markdown",
   "metadata": {},
   "source": [
    "## Task\n",
    "How many stations are on the `Victoria` line?"
   ]
  },
  {
   "cell_type": "code",
   "execution_count": 20,
   "metadata": {},
   "outputs": [],
   "source": [
    "victoria_id = find_with_value(tube_json, 'name', 'Victoria')['id']\n",
    "victoria_res = get_tfl(f\"Line/{victoria_id}/StopPoints\")"
   ]
  },
  {
   "cell_type": "code",
   "execution_count": 21,
   "metadata": {},
   "outputs": [
    {
     "name": "stdout",
     "output_type": "stream",
     "text": [
      "There are 16 stations on the Victoria line\n"
     ]
    }
   ],
   "source": [
    "victoria_json = victoria_res.json()\n",
    "print(f\"There are {len(victoria_json)} stations on the Victoria line\")"
   ]
  },
  {
   "cell_type": "markdown",
   "metadata": {},
   "source": [
    "## Task\n",
    "Plan the journey from Heathrow Airport to Tower Bridge using Bus and Tube. Which way is faster? Example output:\n",
    "```\n",
    "Planned duration:\n",
    "Bus: x minutes\n",
    "Tube: y minutes\n",
    "```\n",
    "\n",
    "We need to search the documentation for correct requests and parameters we need."
   ]
  },
  {
   "cell_type": "code",
   "execution_count": 35,
   "metadata": {},
   "outputs": [],
   "source": [
    "tube_journey_res_ambiguous = get_tfl(\n",
    "    \"Journey/JourneyResults/HeathrowAirport/to/TowerBridge\",\n",
    "    mode=\"tube\",\n",
    ")"
   ]
  },
  {
   "cell_type": "code",
   "execution_count": 32,
   "metadata": {},
   "outputs": [
    {
     "data": {
      "application/json": {
       "$type": "Tfl.Api.Presentation.Entities.JourneyPlanner.DisambiguationResult, Tfl.Api.Presentation.Entities",
       "fromLocationDisambiguation": {
        "$type": "Tfl.Api.Presentation.Entities.JourneyPlanner.Disambiguation, Tfl.Api.Presentation.Entities",
        "disambiguationOptions": [
         {
          "$type": "Tfl.Api.Presentation.Entities.JourneyPlanner.DisambiguationOption, Tfl.Api.Presentation.Entities",
          "matchQuality": 950,
          "parameterValue": "51.46962511264,-0.44968473098",
          "place": {
           "$type": "Tfl.Api.Presentation.Entities.Place, Tfl.Api.Presentation.Entities",
           "additionalProperties": [],
           "commonName": "Hillingdon, Heathrow Airport Terminal 2",
           "lat": 51.46962511264,
           "lon": -0.44968473098,
           "placeType": "PointOfInterest",
           "url": "/Place/"
          },
          "uri": "/journey/journeyresults/51.46962511264,-0.44968473098/to/towerbridge?mode=tube&app_id=e5d1123c6c2e491c98b70b1f3e943b87&app_key=c2bfa03caef04faca902f1a58a966c69"
         },
         {
          "$type": "Tfl.Api.Presentation.Entities.JourneyPlanner.DisambiguationOption, Tfl.Api.Presentation.Entities",
          "matchQuality": 950,
          "parameterValue": "1008026",
          "place": {
           "$type": "Tfl.Api.Presentation.Entities.StopPoint, Tfl.Api.Presentation.Entities",
           "additionalProperties": [],
           "commonName": "Heathrow Airport, Heathrow Airport Terminal 3",
           "icsCode": "1008026",
           "lat": 51.47254839367,
           "lon": -0.45724573875,
           "modes": [],
           "naptanId": "490G000588",
           "placeType": "StopPoint",
           "stopType": "stop",
           "url": "/StopPoint/490G000588"
          },
          "uri": "/journey/journeyresults/1008026/to/towerbridge?mode=tube&app_id=e5d1123c6c2e491c98b70b1f3e943b87&app_key=c2bfa03caef04faca902f1a58a966c69"
         },
         {
          "$type": "Tfl.Api.Presentation.Entities.JourneyPlanner.DisambiguationOption, Tfl.Api.Presentation.Entities",
          "matchQuality": 943,
          "parameterValue": "51.47238603683,-0.48688352825",
          "place": {
           "$type": "Tfl.Api.Presentation.Entities.Place, Tfl.Api.Presentation.Entities",
           "additionalProperties": [],
           "commonName": "Hillingdon, London Heathrow Airport Terminal 5",
           "lat": 51.47238603683,
           "lon": -0.48688352825,
           "placeType": "PointOfInterest",
           "url": "/Place/"
          },
          "uri": "/journey/journeyresults/51.47238603683,-0.48688352825/to/towerbridge?mode=tube&app_id=e5d1123c6c2e491c98b70b1f3e943b87&app_key=c2bfa03caef04faca902f1a58a966c69"
         },
         {
          "$type": "Tfl.Api.Presentation.Entities.JourneyPlanner.DisambiguationOption, Tfl.Api.Presentation.Entities",
          "matchQuality": 939,
          "parameterValue": "51.47212537413,-0.48689215164",
          "place": {
           "$type": "Tfl.Api.Presentation.Entities.Place, Tfl.Api.Presentation.Entities",
           "additionalProperties": [],
           "commonName": "Hillingdon, Heathrow Airport Terminal 5 Arrivals",
           "lat": 51.47212537413,
           "lon": -0.48689215164,
           "placeType": "PointOfInterest",
           "url": "/Place/"
          },
          "uri": "/journey/journeyresults/51.47212537413,-0.48689215164/to/towerbridge?mode=tube&app_id=e5d1123c6c2e491c98b70b1f3e943b87&app_key=c2bfa03caef04faca902f1a58a966c69"
         },
         {
          "$type": "Tfl.Api.Presentation.Entities.JourneyPlanner.DisambiguationOption, Tfl.Api.Presentation.Entities",
          "matchQuality": 939,
          "parameterValue": "51.46046306549,-0.44636767138",
          "place": {
           "$type": "Tfl.Api.Presentation.Entities.Place, Tfl.Api.Presentation.Entities",
           "additionalProperties": [],
           "commonName": "Hillingdon, Heathrow Airport Terminal 4 Arrivals",
           "lat": 51.46046306549,
           "lon": -0.44636767138,
           "placeType": "PointOfInterest",
           "url": "/Place/"
          },
          "uri": "/journey/journeyresults/51.46046306549,-0.44636767138/to/towerbridge?mode=tube&app_id=e5d1123c6c2e491c98b70b1f3e943b87&app_key=c2bfa03caef04faca902f1a58a966c69"
         },
         {
          "$type": "Tfl.Api.Presentation.Entities.JourneyPlanner.DisambiguationOption, Tfl.Api.Presentation.Entities",
          "matchQuality": 939,
          "parameterValue": "51.47154455027,-0.45886341771",
          "place": {
           "$type": "Tfl.Api.Presentation.Entities.Place, Tfl.Api.Presentation.Entities",
           "additionalProperties": [],
           "commonName": "Hillingdon, Heathrow Airport Terminal 3 Arrivals",
           "lat": 51.471544550269996,
           "lon": -0.45886341771,
           "placeType": "PointOfInterest",
           "url": "/Place/"
          },
          "uri": "/journey/journeyresults/51.47154455027,-0.45886341771/to/towerbridge?mode=tube&app_id=e5d1123c6c2e491c98b70b1f3e943b87&app_key=c2bfa03caef04faca902f1a58a966c69"
         },
         {
          "$type": "Tfl.Api.Presentation.Entities.JourneyPlanner.DisambiguationOption, Tfl.Api.Presentation.Entities",
          "matchQuality": 933,
          "parameterValue": "51.4697660699,-0.44946398636",
          "place": {
           "$type": "Tfl.Api.Presentation.Entities.Place, Tfl.Api.Presentation.Entities",
           "additionalProperties": [],
           "commonName": "Hillingdon, United Airlines, Heathrow Airport Terminal 2",
           "lat": 51.4697660699,
           "lon": -0.44946398635999996,
           "placeType": "PointOfInterest",
           "url": "/Place/"
          },
          "uri": "/journey/journeyresults/51.4697660699,-0.44946398636/to/towerbridge?mode=tube&app_id=e5d1123c6c2e491c98b70b1f3e943b87&app_key=c2bfa03caef04faca902f1a58a966c69"
         },
         {
          "$type": "Tfl.Api.Presentation.Entities.JourneyPlanner.DisambiguationOption, Tfl.Api.Presentation.Entities",
          "matchQuality": 932,
          "parameterValue": "1001147",
          "place": {
           "$type": "Tfl.Api.Presentation.Entities.StopPoint, Tfl.Api.Presentation.Entities",
           "additionalProperties": [],
           "commonName": "Heathrow Airport Terminals 1-3, Heathrow Airport Terminals 2 & 3 Rail Station",
           "icsCode": "1001147",
           "lat": 51.47198549429,
           "lon": -0.45478818469000004,
           "modes": [
            "national-rail",
            "tflrail"
           ],
           "naptanId": "HUBH13",
           "placeType": "StopPoint",
           "stopType": "stop",
           "url": "/StopPoint/HUBH13"
          },
          "uri": "/journey/journeyresults/1001147/to/towerbridge?mode=tube&app_id=e5d1123c6c2e491c98b70b1f3e943b87&app_key=c2bfa03caef04faca902f1a58a966c69"
         }
        ],
        "matchStatus": "list"
       },
       "journeyVector": {
        "$type": "Tfl.Api.Presentation.Entities.JourneyPlanner.JourneyVector, Tfl.Api.Presentation.Entities",
        "from": "HeathrowAirport",
        "to": "TowerBridge",
        "uri": "/journey/journeyresults/heathrowairport/to/towerbridge?mode=tube&app_id=e5d1123c6c2e491c98b70b1f3e943b87&app_key=c2bfa03caef04faca902f1a58a966c69",
        "via": ""
       },
       "recommendedMaxAgeMinutes": 1440,
       "searchCriteria": {
        "$type": "Tfl.Api.Presentation.Entities.JourneyPlanner.SearchCriteria, Tfl.Api.Presentation.Entities",
        "dateTime": "2021-03-05T01:58:00",
        "dateTimeType": "Departing"
       },
       "toLocationDisambiguation": {
        "$type": "Tfl.Api.Presentation.Entities.JourneyPlanner.Disambiguation, Tfl.Api.Presentation.Entities",
        "disambiguationOptions": [
         {
          "$type": "Tfl.Api.Presentation.Entities.JourneyPlanner.DisambiguationOption, Tfl.Api.Presentation.Entities",
          "matchQuality": 913,
          "parameterValue": "51.50599630145,-0.07502752221",
          "place": {
           "$type": "Tfl.Api.Presentation.Entities.Place, Tfl.Api.Presentation.Entities",
           "additionalProperties": [],
           "commonName": "City of London, Tower Bridge",
           "lat": 51.50599630145,
           "lon": -0.07502752220999999,
           "placeType": "StopPoint",
           "url": "/Place/"
          },
          "uri": "/journey/journeyresults/heathrowairport/to/51.50599630145,-0.07502752221?mode=tube&app_id=e5d1123c6c2e491c98b70b1f3e943b87&app_key=c2bfa03caef04faca902f1a58a966c69"
         },
         {
          "$type": "Tfl.Api.Presentation.Entities.JourneyPlanner.DisambiguationOption, Tfl.Api.Presentation.Entities",
          "matchQuality": 893,
          "parameterValue": "51.5039580037,-0.07740449014",
          "place": {
           "$type": "Tfl.Api.Presentation.Entities.Place, Tfl.Api.Presentation.Entities",
           "additionalProperties": [],
           "commonName": "Southwark, One Tower Bridge",
           "lat": 51.503958003700006,
           "lon": -0.07740449013999999,
           "placeType": "PointOfInterest",
           "url": "/Place/"
          },
          "uri": "/journey/journeyresults/heathrowairport/to/51.5039580037,-0.07740449014?mode=tube&app_id=e5d1123c6c2e491c98b70b1f3e943b87&app_key=c2bfa03caef04faca902f1a58a966c69"
         },
         {
          "$type": "Tfl.Api.Presentation.Entities.JourneyPlanner.DisambiguationOption, Tfl.Api.Presentation.Entities",
          "matchQuality": 891,
          "parameterValue": "1013746",
          "place": {
           "$type": "Tfl.Api.Presentation.Entities.StopPoint, Tfl.Api.Presentation.Entities",
           "additionalProperties": [],
           "commonName": "London Bridge, Tower Bridge Road",
           "icsCode": "1013746",
           "lat": 51.50227892501,
           "lon": -0.0786566734,
           "modes": [
            "bus"
           ],
           "naptanId": "490G00013746",
           "placeType": "StopPoint",
           "stopType": "stop",
           "url": "/StopPoint/490G00013746"
          },
          "uri": "/journey/journeyresults/heathrowairport/to/1013746?mode=tube&app_id=e5d1123c6c2e491c98b70b1f3e943b87&app_key=c2bfa03caef04faca902f1a58a966c69"
         },
         {
          "$type": "Tfl.Api.Presentation.Entities.JourneyPlanner.DisambiguationOption, Tfl.Api.Presentation.Entities",
          "matchQuality": 891,
          "parameterValue": "51.55796833405,-0.3351140985",
          "place": {
           "$type": "Tfl.Api.Presentation.Entities.Place, Tfl.Api.Presentation.Entities",
           "additionalProperties": [],
           "commonName": "Harrow (London), Tower Bridge Mews",
           "lat": 51.55796833405,
           "lon": -0.3351140985,
           "placeType": "StopPoint",
           "url": "/Place/"
          },
          "uri": "/journey/journeyresults/heathrowairport/to/51.55796833405,-0.3351140985?mode=tube&app_id=e5d1123c6c2e491c98b70b1f3e943b87&app_key=c2bfa03caef04faca902f1a58a966c69"
         },
         {
          "$type": "Tfl.Api.Presentation.Entities.JourneyPlanner.DisambiguationOption, Tfl.Api.Presentation.Entities",
          "matchQuality": 891,
          "parameterValue": "51.49743849977,-0.08015688257",
          "place": {
           "$type": "Tfl.Api.Presentation.Entities.Place, Tfl.Api.Presentation.Entities",
           "additionalProperties": [],
           "commonName": "Southwark, Tower Bridge Road",
           "lat": 51.49743849977,
           "lon": -0.08015688257,
           "placeType": "StopPoint",
           "url": "/Place/"
          },
          "uri": "/journey/journeyresults/heathrowairport/to/51.49743849977,-0.08015688257?mode=tube&app_id=e5d1123c6c2e491c98b70b1f3e943b87&app_key=c2bfa03caef04faca902f1a58a966c69"
         },
         {
          "$type": "Tfl.Api.Presentation.Entities.JourneyPlanner.DisambiguationOption, Tfl.Api.Presentation.Entities",
          "matchQuality": 888,
          "parameterValue": "51.50022693522,-0.07910317812",
          "place": {
           "$type": "Tfl.Api.Presentation.Entities.Place, Tfl.Api.Presentation.Entities",
           "additionalProperties": [],
           "commonName": "Southwark, Think Tower Bridge",
           "lat": 51.500226935220006,
           "lon": -0.07910317811999999,
           "placeType": "PointOfInterest",
           "url": "/Place/"
          },
          "uri": "/journey/journeyresults/heathrowairport/to/51.50022693522,-0.07910317812?mode=tube&app_id=e5d1123c6c2e491c98b70b1f3e943b87&app_key=c2bfa03caef04faca902f1a58a966c69"
         },
         {
          "$type": "Tfl.Api.Presentation.Entities.JourneyPlanner.DisambiguationOption, Tfl.Api.Presentation.Entities",
          "matchQuality": 883,
          "parameterValue": "51.50813908211,-0.07408698432",
          "place": {
           "$type": "Tfl.Api.Presentation.Entities.Place, Tfl.Api.Presentation.Entities",
           "additionalProperties": [],
           "commonName": "City of London, Tower Bridge Approach",
           "lat": 51.508139082110006,
           "lon": -0.07408698432000001,
           "placeType": "StopPoint",
           "url": "/Place/"
          },
          "uri": "/journey/journeyresults/heathrowairport/to/51.50813908211,-0.07408698432?mode=tube&app_id=e5d1123c6c2e491c98b70b1f3e943b87&app_key=c2bfa03caef04faca902f1a58a966c69"
         },
         {
          "$type": "Tfl.Api.Presentation.Entities.JourneyPlanner.DisambiguationOption, Tfl.Api.Presentation.Entities",
          "matchQuality": 880,
          "parameterValue": "51.50551623644,-0.07536476862",
          "place": {
           "$type": "Tfl.Api.Presentation.Entities.Place, Tfl.Api.Presentation.Entities",
           "additionalProperties": [],
           "commonName": "Tower Hamlets, Tower Bridge Exhibition",
           "lat": 51.50551623644,
           "lon": -0.07536476862000001,
           "placeType": "PointOfInterest",
           "url": "/Place/"
          },
          "uri": "/journey/journeyresults/heathrowairport/to/51.50551623644,-0.07536476862?mode=tube&app_id=e5d1123c6c2e491c98b70b1f3e943b87&app_key=c2bfa03caef04faca902f1a58a966c69"
         },
         {
          "$type": "Tfl.Api.Presentation.Entities.JourneyPlanner.DisambiguationOption, Tfl.Api.Presentation.Entities",
          "matchQuality": 878,
          "parameterValue": "1013744",
          "place": {
           "$type": "Tfl.Api.Presentation.Entities.StopPoint, Tfl.Api.Presentation.Entities",
           "additionalProperties": [],
           "commonName": "London Bridge, Tower Bridge / City Hall",
           "icsCode": "1013744",
           "lat": 51.50354961675,
           "lon": -0.07662917924,
           "modes": [
            "bus"
           ],
           "naptanId": "490G00013744",
           "placeType": "StopPoint",
           "stopType": "stop",
           "url": "/StopPoint/490G00013744"
          },
          "uri": "/journey/journeyresults/heathrowairport/to/1013744?mode=tube&app_id=e5d1123c6c2e491c98b70b1f3e943b87&app_key=c2bfa03caef04faca902f1a58a966c69"
         },
         {
          "$type": "Tfl.Api.Presentation.Entities.JourneyPlanner.DisambiguationOption, Tfl.Api.Presentation.Entities",
          "matchQuality": 876,
          "parameterValue": "51.50291701403,-0.07698722055",
          "place": {
           "$type": "Tfl.Api.Presentation.Entities.Place, Tfl.Api.Presentation.Entities",
           "additionalProperties": [],
           "commonName": "Southwark, Draft House Tower Bridge",
           "lat": 51.502917014030004,
           "lon": -0.07698722055,
           "placeType": "PointOfInterest",
           "url": "/Place/"
          },
          "uri": "/journey/journeyresults/heathrowairport/to/51.50291701403,-0.07698722055?mode=tube&app_id=e5d1123c6c2e491c98b70b1f3e943b87&app_key=c2bfa03caef04faca902f1a58a966c69"
         },
         {
          "$type": "Tfl.Api.Presentation.Entities.JourneyPlanner.DisambiguationOption, Tfl.Api.Presentation.Entities",
          "matchQuality": 875,
          "parameterValue": "51.51148152225,-0.07227427369",
          "place": {
           "$type": "Tfl.Api.Presentation.Entities.Place, Tfl.Api.Presentation.Entities",
           "additionalProperties": [],
           "commonName": "Tower Hamlets [Stepney], Grange Tower Bridge Hotel",
           "lat": 51.511481522249994,
           "lon": -0.07227427369,
           "placeType": "PointOfInterest",
           "url": "/Place/"
          },
          "uri": "/journey/journeyresults/heathrowairport/to/51.51148152225,-0.07227427369?mode=tube&app_id=e5d1123c6c2e491c98b70b1f3e943b87&app_key=c2bfa03caef04faca902f1a58a966c69"
         },
         {
          "$type": "Tfl.Api.Presentation.Entities.JourneyPlanner.DisambiguationOption, Tfl.Api.Presentation.Entities",
          "matchQuality": 874,
          "parameterValue": "51.51092054902,-0.0775437131",
          "place": {
           "$type": "Tfl.Api.Presentation.Entities.Place, Tfl.Api.Presentation.Entities",
           "additionalProperties": [],
           "commonName": "City of Westminster, Novotel Tower Bridge Hotel",
           "lat": 51.51092054902,
           "lon": -0.0775437131,
           "placeType": "PointOfInterest",
           "url": "/Place/"
          },
          "uri": "/journey/journeyresults/heathrowairport/to/51.51092054902,-0.0775437131?mode=tube&app_id=e5d1123c6c2e491c98b70b1f3e943b87&app_key=c2bfa03caef04faca902f1a58a966c69"
         },
         {
          "$type": "Tfl.Api.Presentation.Entities.JourneyPlanner.DisambiguationOption, Tfl.Api.Presentation.Entities",
          "matchQuality": 872,
          "parameterValue": "51.50487643497,-0.0600023505",
          "place": {
           "$type": "Tfl.Api.Presentation.Entities.Place, Tfl.Api.Presentation.Entities",
           "additionalProperties": [],
           "commonName": "Tower Hamlets [Stepney], Try Tag Rugby Tower Bridge",
           "lat": 51.50487643497,
           "lon": -0.0600023505,
           "placeType": "PointOfInterest",
           "url": "/Place/"
          },
          "uri": "/journey/journeyresults/heathrowairport/to/51.50487643497,-0.0600023505?mode=tube&app_id=e5d1123c6c2e491c98b70b1f3e943b87&app_key=c2bfa03caef04faca902f1a58a966c69"
         },
         {
          "$type": "Tfl.Api.Presentation.Entities.JourneyPlanner.DisambiguationOption, Tfl.Api.Presentation.Entities",
          "matchQuality": 870,
          "parameterValue": "51.50196942893,-0.07678216534",
          "place": {
           "$type": "Tfl.Api.Presentation.Entities.Place, Tfl.Api.Presentation.Entities",
           "additionalProperties": [],
           "commonName": "Southwark, Tower Bridge Magistrates Court",
           "lat": 51.501969428929996,
           "lon": -0.07678216534000001,
           "placeType": "PointOfInterest",
           "url": "/Place/"
          },
          "uri": "/journey/journeyresults/heathrowairport/to/51.50196942893,-0.07678216534?mode=tube&app_id=e5d1123c6c2e491c98b70b1f3e943b87&app_key=c2bfa03caef04faca902f1a58a966c69"
         },
         {
          "$type": "Tfl.Api.Presentation.Entities.JourneyPlanner.DisambiguationOption, Tfl.Api.Presentation.Entities",
          "matchQuality": 860,
          "parameterValue": "51.50396395249,-0.08161173173",
          "place": {
           "$type": "Tfl.Api.Presentation.Entities.Place, Tfl.Api.Presentation.Entities",
           "additionalProperties": [],
           "commonName": "Southwark, Chicken Cottage Takeaway Food, Tower Bridge",
           "lat": 51.503963952490004,
           "lon": -0.08161173173,
           "placeType": "PointOfInterest",
           "url": "/Place/"
          },
          "uri": "/journey/journeyresults/heathrowairport/to/51.50396395249,-0.08161173173?mode=tube&app_id=e5d1123c6c2e491c98b70b1f3e943b87&app_key=c2bfa03caef04faca902f1a58a966c69"
         }
        ],
        "matchStatus": "list"
       },
       "viaLocationDisambiguation": {
        "$type": "Tfl.Api.Presentation.Entities.JourneyPlanner.Disambiguation, Tfl.Api.Presentation.Entities",
        "matchStatus": "empty"
       }
      },
      "text/plain": [
       "<IPython.core.display.JSON object>"
      ]
     },
     "execution_count": 32,
     "metadata": {
      "application/json": {
       "expanded": false,
       "root": "root"
      }
     },
     "output_type": "execute_result"
    }
   ],
   "source": [
    "JSON(tube_journey_res_ambiguous.json())"
   ]
  },
  {
   "cell_type": "code",
   "execution_count": 33,
   "metadata": {},
   "outputs": [],
   "source": [
    "# \"Heathrow Airport\" is ambiguous. Use the lat/long for Terminal 2:\n",
    "heathrow_airport = \"51.46962511264,-0.44968473098\"\n",
    "# \"Tower Bridge\" is ambiguous. Use the lat/long:\n",
    "tower_bridge = \"51.50599630145,-0.07502752221\""
   ]
  },
  {
   "cell_type": "code",
   "execution_count": 36,
   "metadata": {},
   "outputs": [],
   "source": [
    "tube_journey_res_partly_ambiguous = get_tfl(\n",
    "    \"Journey/JourneyResults/{heathrow_airport}/to/TowerBridge\",\n",
    "    mode=\"tube\",\n",
    ")"
   ]
  },
  {
   "cell_type": "code",
   "execution_count": 37,
   "metadata": {},
   "outputs": [
    {
     "data": {
      "application/json": {
       "$type": "Tfl.Api.Presentation.Entities.JourneyPlanner.DisambiguationResult, Tfl.Api.Presentation.Entities",
       "fromLocationDisambiguation": {
        "$type": "Tfl.Api.Presentation.Entities.JourneyPlanner.Disambiguation, Tfl.Api.Presentation.Entities",
        "disambiguationOptions": [
         {
          "$type": "Tfl.Api.Presentation.Entities.JourneyPlanner.DisambiguationOption, Tfl.Api.Presentation.Entities",
          "matchQuality": 950,
          "parameterValue": "51.46962511264,-0.44968473098",
          "place": {
           "$type": "Tfl.Api.Presentation.Entities.Place, Tfl.Api.Presentation.Entities",
           "additionalProperties": [],
           "commonName": "Hillingdon, Heathrow Airport Terminal 2",
           "lat": 51.46962511264,
           "lon": -0.44968473098,
           "placeType": "PointOfInterest",
           "url": "/Place/"
          },
          "uri": "/journey/journeyresults/%7bheathrow_airport%7d/to/towerbridge?mode=tube&app_id=e5d1123c6c2e491c98b70b1f3e943b87&app_key=c2bfa03caef04faca902f1a58a966c69"
         }
        ],
        "matchStatus": "list"
       },
       "journeyVector": {
        "$type": "Tfl.Api.Presentation.Entities.JourneyPlanner.JourneyVector, Tfl.Api.Presentation.Entities",
        "from": "{heathrow_airport}",
        "to": "TowerBridge",
        "uri": "/journey/journeyresults/%7bheathrow_airport%7d/to/towerbridge?mode=tube&app_id=e5d1123c6c2e491c98b70b1f3e943b87&app_key=c2bfa03caef04faca902f1a58a966c69",
        "via": ""
       },
       "recommendedMaxAgeMinutes": 1440,
       "searchCriteria": {
        "$type": "Tfl.Api.Presentation.Entities.JourneyPlanner.SearchCriteria, Tfl.Api.Presentation.Entities",
        "dateTime": "2021-03-05T03:43:00",
        "dateTimeType": "Departing"
       },
       "toLocationDisambiguation": {
        "$type": "Tfl.Api.Presentation.Entities.JourneyPlanner.Disambiguation, Tfl.Api.Presentation.Entities",
        "disambiguationOptions": [
         {
          "$type": "Tfl.Api.Presentation.Entities.JourneyPlanner.DisambiguationOption, Tfl.Api.Presentation.Entities",
          "matchQuality": 913,
          "parameterValue": "51.50599630145,-0.07502752221",
          "place": {
           "$type": "Tfl.Api.Presentation.Entities.Place, Tfl.Api.Presentation.Entities",
           "additionalProperties": [],
           "commonName": "City of London, Tower Bridge",
           "lat": 51.50599630145,
           "lon": -0.07502752220999999,
           "placeType": "StopPoint",
           "url": "/Place/"
          },
          "uri": "/journey/journeyresults/%7bheathrow_airport%7d/to/51.50599630145,-0.07502752221?mode=tube&app_id=e5d1123c6c2e491c98b70b1f3e943b87&app_key=c2bfa03caef04faca902f1a58a966c69"
         },
         {
          "$type": "Tfl.Api.Presentation.Entities.JourneyPlanner.DisambiguationOption, Tfl.Api.Presentation.Entities",
          "matchQuality": 893,
          "parameterValue": "51.5039580037,-0.07740449014",
          "place": {
           "$type": "Tfl.Api.Presentation.Entities.Place, Tfl.Api.Presentation.Entities",
           "additionalProperties": [],
           "commonName": "Southwark, One Tower Bridge",
           "lat": 51.503958003700006,
           "lon": -0.07740449013999999,
           "placeType": "PointOfInterest",
           "url": "/Place/"
          },
          "uri": "/journey/journeyresults/%7bheathrow_airport%7d/to/51.5039580037,-0.07740449014?mode=tube&app_id=e5d1123c6c2e491c98b70b1f3e943b87&app_key=c2bfa03caef04faca902f1a58a966c69"
         },
         {
          "$type": "Tfl.Api.Presentation.Entities.JourneyPlanner.DisambiguationOption, Tfl.Api.Presentation.Entities",
          "matchQuality": 891,
          "parameterValue": "1013746",
          "place": {
           "$type": "Tfl.Api.Presentation.Entities.StopPoint, Tfl.Api.Presentation.Entities",
           "additionalProperties": [],
           "commonName": "London Bridge, Tower Bridge Road",
           "icsCode": "1013746",
           "lat": 51.50227892501,
           "lon": -0.0786566734,
           "modes": [
            "bus"
           ],
           "naptanId": "490G00013746",
           "placeType": "StopPoint",
           "stopType": "stop",
           "url": "/StopPoint/490G00013746"
          },
          "uri": "/journey/journeyresults/%7bheathrow_airport%7d/to/1013746?mode=tube&app_id=e5d1123c6c2e491c98b70b1f3e943b87&app_key=c2bfa03caef04faca902f1a58a966c69"
         },
         {
          "$type": "Tfl.Api.Presentation.Entities.JourneyPlanner.DisambiguationOption, Tfl.Api.Presentation.Entities",
          "matchQuality": 891,
          "parameterValue": "51.55796833405,-0.3351140985",
          "place": {
           "$type": "Tfl.Api.Presentation.Entities.Place, Tfl.Api.Presentation.Entities",
           "additionalProperties": [],
           "commonName": "Harrow (London), Tower Bridge Mews",
           "lat": 51.55796833405,
           "lon": -0.3351140985,
           "placeType": "StopPoint",
           "url": "/Place/"
          },
          "uri": "/journey/journeyresults/%7bheathrow_airport%7d/to/51.55796833405,-0.3351140985?mode=tube&app_id=e5d1123c6c2e491c98b70b1f3e943b87&app_key=c2bfa03caef04faca902f1a58a966c69"
         },
         {
          "$type": "Tfl.Api.Presentation.Entities.JourneyPlanner.DisambiguationOption, Tfl.Api.Presentation.Entities",
          "matchQuality": 891,
          "parameterValue": "51.49743849977,-0.08015688257",
          "place": {
           "$type": "Tfl.Api.Presentation.Entities.Place, Tfl.Api.Presentation.Entities",
           "additionalProperties": [],
           "commonName": "Southwark, Tower Bridge Road",
           "lat": 51.49743849977,
           "lon": -0.08015688257,
           "placeType": "StopPoint",
           "url": "/Place/"
          },
          "uri": "/journey/journeyresults/%7bheathrow_airport%7d/to/51.49743849977,-0.08015688257?mode=tube&app_id=e5d1123c6c2e491c98b70b1f3e943b87&app_key=c2bfa03caef04faca902f1a58a966c69"
         },
         {
          "$type": "Tfl.Api.Presentation.Entities.JourneyPlanner.DisambiguationOption, Tfl.Api.Presentation.Entities",
          "matchQuality": 888,
          "parameterValue": "51.50022693522,-0.07910317812",
          "place": {
           "$type": "Tfl.Api.Presentation.Entities.Place, Tfl.Api.Presentation.Entities",
           "additionalProperties": [],
           "commonName": "Southwark, Think Tower Bridge",
           "lat": 51.500226935220006,
           "lon": -0.07910317811999999,
           "placeType": "PointOfInterest",
           "url": "/Place/"
          },
          "uri": "/journey/journeyresults/%7bheathrow_airport%7d/to/51.50022693522,-0.07910317812?mode=tube&app_id=e5d1123c6c2e491c98b70b1f3e943b87&app_key=c2bfa03caef04faca902f1a58a966c69"
         },
         {
          "$type": "Tfl.Api.Presentation.Entities.JourneyPlanner.DisambiguationOption, Tfl.Api.Presentation.Entities",
          "matchQuality": 883,
          "parameterValue": "51.50813908211,-0.07408698432",
          "place": {
           "$type": "Tfl.Api.Presentation.Entities.Place, Tfl.Api.Presentation.Entities",
           "additionalProperties": [],
           "commonName": "City of London, Tower Bridge Approach",
           "lat": 51.508139082110006,
           "lon": -0.07408698432000001,
           "placeType": "StopPoint",
           "url": "/Place/"
          },
          "uri": "/journey/journeyresults/%7bheathrow_airport%7d/to/51.50813908211,-0.07408698432?mode=tube&app_id=e5d1123c6c2e491c98b70b1f3e943b87&app_key=c2bfa03caef04faca902f1a58a966c69"
         },
         {
          "$type": "Tfl.Api.Presentation.Entities.JourneyPlanner.DisambiguationOption, Tfl.Api.Presentation.Entities",
          "matchQuality": 880,
          "parameterValue": "51.50551623644,-0.07536476862",
          "place": {
           "$type": "Tfl.Api.Presentation.Entities.Place, Tfl.Api.Presentation.Entities",
           "additionalProperties": [],
           "commonName": "Tower Hamlets, Tower Bridge Exhibition",
           "lat": 51.50551623644,
           "lon": -0.07536476862000001,
           "placeType": "PointOfInterest",
           "url": "/Place/"
          },
          "uri": "/journey/journeyresults/%7bheathrow_airport%7d/to/51.50551623644,-0.07536476862?mode=tube&app_id=e5d1123c6c2e491c98b70b1f3e943b87&app_key=c2bfa03caef04faca902f1a58a966c69"
         },
         {
          "$type": "Tfl.Api.Presentation.Entities.JourneyPlanner.DisambiguationOption, Tfl.Api.Presentation.Entities",
          "matchQuality": 878,
          "parameterValue": "1013744",
          "place": {
           "$type": "Tfl.Api.Presentation.Entities.StopPoint, Tfl.Api.Presentation.Entities",
           "additionalProperties": [],
           "commonName": "London Bridge, Tower Bridge / City Hall",
           "icsCode": "1013744",
           "lat": 51.50354961675,
           "lon": -0.07662917924,
           "modes": [
            "bus"
           ],
           "naptanId": "490G00013744",
           "placeType": "StopPoint",
           "stopType": "stop",
           "url": "/StopPoint/490G00013744"
          },
          "uri": "/journey/journeyresults/%7bheathrow_airport%7d/to/1013744?mode=tube&app_id=e5d1123c6c2e491c98b70b1f3e943b87&app_key=c2bfa03caef04faca902f1a58a966c69"
         },
         {
          "$type": "Tfl.Api.Presentation.Entities.JourneyPlanner.DisambiguationOption, Tfl.Api.Presentation.Entities",
          "matchQuality": 876,
          "parameterValue": "51.50291701403,-0.07698722055",
          "place": {
           "$type": "Tfl.Api.Presentation.Entities.Place, Tfl.Api.Presentation.Entities",
           "additionalProperties": [],
           "commonName": "Southwark, Draft House Tower Bridge",
           "lat": 51.502917014030004,
           "lon": -0.07698722055,
           "placeType": "PointOfInterest",
           "url": "/Place/"
          },
          "uri": "/journey/journeyresults/%7bheathrow_airport%7d/to/51.50291701403,-0.07698722055?mode=tube&app_id=e5d1123c6c2e491c98b70b1f3e943b87&app_key=c2bfa03caef04faca902f1a58a966c69"
         },
         {
          "$type": "Tfl.Api.Presentation.Entities.JourneyPlanner.DisambiguationOption, Tfl.Api.Presentation.Entities",
          "matchQuality": 875,
          "parameterValue": "51.51148152225,-0.07227427369",
          "place": {
           "$type": "Tfl.Api.Presentation.Entities.Place, Tfl.Api.Presentation.Entities",
           "additionalProperties": [],
           "commonName": "Tower Hamlets [Stepney], Grange Tower Bridge Hotel",
           "lat": 51.511481522249994,
           "lon": -0.07227427369,
           "placeType": "PointOfInterest",
           "url": "/Place/"
          },
          "uri": "/journey/journeyresults/%7bheathrow_airport%7d/to/51.51148152225,-0.07227427369?mode=tube&app_id=e5d1123c6c2e491c98b70b1f3e943b87&app_key=c2bfa03caef04faca902f1a58a966c69"
         },
         {
          "$type": "Tfl.Api.Presentation.Entities.JourneyPlanner.DisambiguationOption, Tfl.Api.Presentation.Entities",
          "matchQuality": 874,
          "parameterValue": "51.51092054902,-0.0775437131",
          "place": {
           "$type": "Tfl.Api.Presentation.Entities.Place, Tfl.Api.Presentation.Entities",
           "additionalProperties": [],
           "commonName": "City of Westminster, Novotel Tower Bridge Hotel",
           "lat": 51.51092054902,
           "lon": -0.0775437131,
           "placeType": "PointOfInterest",
           "url": "/Place/"
          },
          "uri": "/journey/journeyresults/%7bheathrow_airport%7d/to/51.51092054902,-0.0775437131?mode=tube&app_id=e5d1123c6c2e491c98b70b1f3e943b87&app_key=c2bfa03caef04faca902f1a58a966c69"
         },
         {
          "$type": "Tfl.Api.Presentation.Entities.JourneyPlanner.DisambiguationOption, Tfl.Api.Presentation.Entities",
          "matchQuality": 872,
          "parameterValue": "51.50487643497,-0.0600023505",
          "place": {
           "$type": "Tfl.Api.Presentation.Entities.Place, Tfl.Api.Presentation.Entities",
           "additionalProperties": [],
           "commonName": "Tower Hamlets [Stepney], Try Tag Rugby Tower Bridge",
           "lat": 51.50487643497,
           "lon": -0.0600023505,
           "placeType": "PointOfInterest",
           "url": "/Place/"
          },
          "uri": "/journey/journeyresults/%7bheathrow_airport%7d/to/51.50487643497,-0.0600023505?mode=tube&app_id=e5d1123c6c2e491c98b70b1f3e943b87&app_key=c2bfa03caef04faca902f1a58a966c69"
         },
         {
          "$type": "Tfl.Api.Presentation.Entities.JourneyPlanner.DisambiguationOption, Tfl.Api.Presentation.Entities",
          "matchQuality": 870,
          "parameterValue": "51.50196942893,-0.07678216534",
          "place": {
           "$type": "Tfl.Api.Presentation.Entities.Place, Tfl.Api.Presentation.Entities",
           "additionalProperties": [],
           "commonName": "Southwark, Tower Bridge Magistrates Court",
           "lat": 51.501969428929996,
           "lon": -0.07678216534000001,
           "placeType": "PointOfInterest",
           "url": "/Place/"
          },
          "uri": "/journey/journeyresults/%7bheathrow_airport%7d/to/51.50196942893,-0.07678216534?mode=tube&app_id=e5d1123c6c2e491c98b70b1f3e943b87&app_key=c2bfa03caef04faca902f1a58a966c69"
         },
         {
          "$type": "Tfl.Api.Presentation.Entities.JourneyPlanner.DisambiguationOption, Tfl.Api.Presentation.Entities",
          "matchQuality": 860,
          "parameterValue": "51.50396395249,-0.08161173173",
          "place": {
           "$type": "Tfl.Api.Presentation.Entities.Place, Tfl.Api.Presentation.Entities",
           "additionalProperties": [],
           "commonName": "Southwark, Chicken Cottage Takeaway Food, Tower Bridge",
           "lat": 51.503963952490004,
           "lon": -0.08161173173,
           "placeType": "PointOfInterest",
           "url": "/Place/"
          },
          "uri": "/journey/journeyresults/%7bheathrow_airport%7d/to/51.50396395249,-0.08161173173?mode=tube&app_id=e5d1123c6c2e491c98b70b1f3e943b87&app_key=c2bfa03caef04faca902f1a58a966c69"
         }
        ],
        "matchStatus": "list"
       },
       "viaLocationDisambiguation": {
        "$type": "Tfl.Api.Presentation.Entities.JourneyPlanner.Disambiguation, Tfl.Api.Presentation.Entities",
        "matchStatus": "empty"
       }
      },
      "text/plain": [
       "<IPython.core.display.JSON object>"
      ]
     },
     "execution_count": 37,
     "metadata": {
      "application/json": {
       "expanded": false,
       "root": "root"
      }
     },
     "output_type": "execute_result"
    }
   ],
   "source": [
    "JSON(tube_journey_res_partly_ambiguous.json())"
   ]
  },
  {
   "cell_type": "code",
   "execution_count": 39,
   "metadata": {},
   "outputs": [],
   "source": [
    "postcode_to_text = get_tfl(\"Journey/JourneyResults/NW10 1ND/to/TowerBridge\")"
   ]
  },
  {
   "cell_type": "code",
   "execution_count": 40,
   "metadata": {},
   "outputs": [
    {
     "data": {
      "application/json": {
       "$type": "Tfl.Api.Presentation.Entities.JourneyPlanner.DisambiguationResult, Tfl.Api.Presentation.Entities",
       "fromLocationDisambiguation": {
        "$type": "Tfl.Api.Presentation.Entities.JourneyPlanner.Disambiguation, Tfl.Api.Presentation.Entities",
        "matchStatus": "identified"
       },
       "journeyVector": {
        "$type": "Tfl.Api.Presentation.Entities.JourneyPlanner.JourneyVector, Tfl.Api.Presentation.Entities",
        "from": "NW101ND",
        "to": "TowerBridge",
        "uri": "/journey/journeyresults/nw10%201nd/to/towerbridge?app_id=e5d1123c6c2e491c98b70b1f3e943b87&app_key=c2bfa03caef04faca902f1a58a966c69",
        "via": ""
       },
       "recommendedMaxAgeMinutes": 1440,
       "searchCriteria": {
        "$type": "Tfl.Api.Presentation.Entities.JourneyPlanner.SearchCriteria, Tfl.Api.Presentation.Entities",
        "dateTime": "2021-03-05T05:05:00",
        "dateTimeType": "Departing"
       },
       "toLocationDisambiguation": {
        "$type": "Tfl.Api.Presentation.Entities.JourneyPlanner.Disambiguation, Tfl.Api.Presentation.Entities",
        "disambiguationOptions": [
         {
          "$type": "Tfl.Api.Presentation.Entities.JourneyPlanner.DisambiguationOption, Tfl.Api.Presentation.Entities",
          "matchQuality": 913,
          "parameterValue": "51.50599630145,-0.07502752221",
          "place": {
           "$type": "Tfl.Api.Presentation.Entities.Place, Tfl.Api.Presentation.Entities",
           "additionalProperties": [],
           "commonName": "City of London, Tower Bridge",
           "lat": 51.50599630145,
           "lon": -0.07502752220999999,
           "placeType": "StopPoint",
           "url": "/Place/"
          },
          "uri": "/journey/journeyresults/nw10%201nd/to/51.50599630145,-0.07502752221?app_id=e5d1123c6c2e491c98b70b1f3e943b87&app_key=c2bfa03caef04faca902f1a58a966c69"
         },
         {
          "$type": "Tfl.Api.Presentation.Entities.JourneyPlanner.DisambiguationOption, Tfl.Api.Presentation.Entities",
          "matchQuality": 893,
          "parameterValue": "51.5039580037,-0.07740449014",
          "place": {
           "$type": "Tfl.Api.Presentation.Entities.Place, Tfl.Api.Presentation.Entities",
           "additionalProperties": [],
           "commonName": "Southwark, One Tower Bridge",
           "lat": 51.503958003700006,
           "lon": -0.07740449013999999,
           "placeType": "PointOfInterest",
           "url": "/Place/"
          },
          "uri": "/journey/journeyresults/nw10%201nd/to/51.5039580037,-0.07740449014?app_id=e5d1123c6c2e491c98b70b1f3e943b87&app_key=c2bfa03caef04faca902f1a58a966c69"
         },
         {
          "$type": "Tfl.Api.Presentation.Entities.JourneyPlanner.DisambiguationOption, Tfl.Api.Presentation.Entities",
          "matchQuality": 891,
          "parameterValue": "1013746",
          "place": {
           "$type": "Tfl.Api.Presentation.Entities.StopPoint, Tfl.Api.Presentation.Entities",
           "additionalProperties": [],
           "commonName": "London Bridge, Tower Bridge Road",
           "icsCode": "1013746",
           "lat": 51.50227892501,
           "lon": -0.0786566734,
           "modes": [
            "bus"
           ],
           "naptanId": "490G00013746",
           "placeType": "StopPoint",
           "stopType": "stop",
           "url": "/StopPoint/490G00013746"
          },
          "uri": "/journey/journeyresults/nw101nd/to/1013746?app_id=e5d1123c6c2e491c98b70b1f3e943b87&app_key=c2bfa03caef04faca902f1a58a966c69"
         },
         {
          "$type": "Tfl.Api.Presentation.Entities.JourneyPlanner.DisambiguationOption, Tfl.Api.Presentation.Entities",
          "matchQuality": 891,
          "parameterValue": "51.55796833405,-0.3351140985",
          "place": {
           "$type": "Tfl.Api.Presentation.Entities.Place, Tfl.Api.Presentation.Entities",
           "additionalProperties": [],
           "commonName": "Harrow (London), Tower Bridge Mews",
           "lat": 51.55796833405,
           "lon": -0.3351140985,
           "placeType": "StopPoint",
           "url": "/Place/"
          },
          "uri": "/journey/journeyresults/nw10%201nd/to/51.55796833405,-0.3351140985?app_id=e5d1123c6c2e491c98b70b1f3e943b87&app_key=c2bfa03caef04faca902f1a58a966c69"
         },
         {
          "$type": "Tfl.Api.Presentation.Entities.JourneyPlanner.DisambiguationOption, Tfl.Api.Presentation.Entities",
          "matchQuality": 891,
          "parameterValue": "51.49743849977,-0.08015688257",
          "place": {
           "$type": "Tfl.Api.Presentation.Entities.Place, Tfl.Api.Presentation.Entities",
           "additionalProperties": [],
           "commonName": "Southwark, Tower Bridge Road",
           "lat": 51.49743849977,
           "lon": -0.08015688257,
           "placeType": "StopPoint",
           "url": "/Place/"
          },
          "uri": "/journey/journeyresults/nw10%201nd/to/51.49743849977,-0.08015688257?app_id=e5d1123c6c2e491c98b70b1f3e943b87&app_key=c2bfa03caef04faca902f1a58a966c69"
         },
         {
          "$type": "Tfl.Api.Presentation.Entities.JourneyPlanner.DisambiguationOption, Tfl.Api.Presentation.Entities",
          "matchQuality": 888,
          "parameterValue": "51.50022693522,-0.07910317812",
          "place": {
           "$type": "Tfl.Api.Presentation.Entities.Place, Tfl.Api.Presentation.Entities",
           "additionalProperties": [],
           "commonName": "Southwark, Think Tower Bridge",
           "lat": 51.500226935220006,
           "lon": -0.07910317811999999,
           "placeType": "PointOfInterest",
           "url": "/Place/"
          },
          "uri": "/journey/journeyresults/nw10%201nd/to/51.50022693522,-0.07910317812?app_id=e5d1123c6c2e491c98b70b1f3e943b87&app_key=c2bfa03caef04faca902f1a58a966c69"
         },
         {
          "$type": "Tfl.Api.Presentation.Entities.JourneyPlanner.DisambiguationOption, Tfl.Api.Presentation.Entities",
          "matchQuality": 883,
          "parameterValue": "51.50813908211,-0.07408698432",
          "place": {
           "$type": "Tfl.Api.Presentation.Entities.Place, Tfl.Api.Presentation.Entities",
           "additionalProperties": [],
           "commonName": "City of London, Tower Bridge Approach",
           "lat": 51.508139082110006,
           "lon": -0.07408698432000001,
           "placeType": "StopPoint",
           "url": "/Place/"
          },
          "uri": "/journey/journeyresults/nw10%201nd/to/51.50813908211,-0.07408698432?app_id=e5d1123c6c2e491c98b70b1f3e943b87&app_key=c2bfa03caef04faca902f1a58a966c69"
         },
         {
          "$type": "Tfl.Api.Presentation.Entities.JourneyPlanner.DisambiguationOption, Tfl.Api.Presentation.Entities",
          "matchQuality": 880,
          "parameterValue": "51.50551623644,-0.07536476862",
          "place": {
           "$type": "Tfl.Api.Presentation.Entities.Place, Tfl.Api.Presentation.Entities",
           "additionalProperties": [],
           "commonName": "Tower Hamlets, Tower Bridge Exhibition",
           "lat": 51.50551623644,
           "lon": -0.07536476862000001,
           "placeType": "PointOfInterest",
           "url": "/Place/"
          },
          "uri": "/journey/journeyresults/nw10%201nd/to/51.50551623644,-0.07536476862?app_id=e5d1123c6c2e491c98b70b1f3e943b87&app_key=c2bfa03caef04faca902f1a58a966c69"
         },
         {
          "$type": "Tfl.Api.Presentation.Entities.JourneyPlanner.DisambiguationOption, Tfl.Api.Presentation.Entities",
          "matchQuality": 878,
          "parameterValue": "1013744",
          "place": {
           "$type": "Tfl.Api.Presentation.Entities.StopPoint, Tfl.Api.Presentation.Entities",
           "additionalProperties": [],
           "commonName": "London Bridge, Tower Bridge / City Hall",
           "icsCode": "1013744",
           "lat": 51.50354961675,
           "lon": -0.07662917924,
           "modes": [
            "bus"
           ],
           "naptanId": "490G00013744",
           "placeType": "StopPoint",
           "stopType": "stop",
           "url": "/StopPoint/490G00013744"
          },
          "uri": "/journey/journeyresults/nw101nd/to/1013744?app_id=e5d1123c6c2e491c98b70b1f3e943b87&app_key=c2bfa03caef04faca902f1a58a966c69"
         },
         {
          "$type": "Tfl.Api.Presentation.Entities.JourneyPlanner.DisambiguationOption, Tfl.Api.Presentation.Entities",
          "matchQuality": 876,
          "parameterValue": "51.50291701403,-0.07698722055",
          "place": {
           "$type": "Tfl.Api.Presentation.Entities.Place, Tfl.Api.Presentation.Entities",
           "additionalProperties": [],
           "commonName": "Southwark, Draft House Tower Bridge",
           "lat": 51.502917014030004,
           "lon": -0.07698722055,
           "placeType": "PointOfInterest",
           "url": "/Place/"
          },
          "uri": "/journey/journeyresults/nw10%201nd/to/51.50291701403,-0.07698722055?app_id=e5d1123c6c2e491c98b70b1f3e943b87&app_key=c2bfa03caef04faca902f1a58a966c69"
         },
         {
          "$type": "Tfl.Api.Presentation.Entities.JourneyPlanner.DisambiguationOption, Tfl.Api.Presentation.Entities",
          "matchQuality": 875,
          "parameterValue": "51.51148152225,-0.07227427369",
          "place": {
           "$type": "Tfl.Api.Presentation.Entities.Place, Tfl.Api.Presentation.Entities",
           "additionalProperties": [],
           "commonName": "Tower Hamlets [Stepney], Grange Tower Bridge Hotel",
           "lat": 51.511481522249994,
           "lon": -0.07227427369,
           "placeType": "PointOfInterest",
           "url": "/Place/"
          },
          "uri": "/journey/journeyresults/nw10%201nd/to/51.51148152225,-0.07227427369?app_id=e5d1123c6c2e491c98b70b1f3e943b87&app_key=c2bfa03caef04faca902f1a58a966c69"
         },
         {
          "$type": "Tfl.Api.Presentation.Entities.JourneyPlanner.DisambiguationOption, Tfl.Api.Presentation.Entities",
          "matchQuality": 874,
          "parameterValue": "51.51092054902,-0.0775437131",
          "place": {
           "$type": "Tfl.Api.Presentation.Entities.Place, Tfl.Api.Presentation.Entities",
           "additionalProperties": [],
           "commonName": "City of Westminster, Novotel Tower Bridge Hotel",
           "lat": 51.51092054902,
           "lon": -0.0775437131,
           "placeType": "PointOfInterest",
           "url": "/Place/"
          },
          "uri": "/journey/journeyresults/nw10%201nd/to/51.51092054902,-0.0775437131?app_id=e5d1123c6c2e491c98b70b1f3e943b87&app_key=c2bfa03caef04faca902f1a58a966c69"
         },
         {
          "$type": "Tfl.Api.Presentation.Entities.JourneyPlanner.DisambiguationOption, Tfl.Api.Presentation.Entities",
          "matchQuality": 872,
          "parameterValue": "51.50487643497,-0.0600023505",
          "place": {
           "$type": "Tfl.Api.Presentation.Entities.Place, Tfl.Api.Presentation.Entities",
           "additionalProperties": [],
           "commonName": "Tower Hamlets [Stepney], Try Tag Rugby Tower Bridge",
           "lat": 51.50487643497,
           "lon": -0.0600023505,
           "placeType": "PointOfInterest",
           "url": "/Place/"
          },
          "uri": "/journey/journeyresults/nw10%201nd/to/51.50487643497,-0.0600023505?app_id=e5d1123c6c2e491c98b70b1f3e943b87&app_key=c2bfa03caef04faca902f1a58a966c69"
         },
         {
          "$type": "Tfl.Api.Presentation.Entities.JourneyPlanner.DisambiguationOption, Tfl.Api.Presentation.Entities",
          "matchQuality": 870,
          "parameterValue": "51.50196942893,-0.07678216534",
          "place": {
           "$type": "Tfl.Api.Presentation.Entities.Place, Tfl.Api.Presentation.Entities",
           "additionalProperties": [],
           "commonName": "Southwark, Tower Bridge Magistrates Court",
           "lat": 51.501969428929996,
           "lon": -0.07678216534000001,
           "placeType": "PointOfInterest",
           "url": "/Place/"
          },
          "uri": "/journey/journeyresults/nw10%201nd/to/51.50196942893,-0.07678216534?app_id=e5d1123c6c2e491c98b70b1f3e943b87&app_key=c2bfa03caef04faca902f1a58a966c69"
         },
         {
          "$type": "Tfl.Api.Presentation.Entities.JourneyPlanner.DisambiguationOption, Tfl.Api.Presentation.Entities",
          "matchQuality": 860,
          "parameterValue": "51.50396395249,-0.08161173173",
          "place": {
           "$type": "Tfl.Api.Presentation.Entities.Place, Tfl.Api.Presentation.Entities",
           "additionalProperties": [],
           "commonName": "Southwark, Chicken Cottage Takeaway Food, Tower Bridge",
           "lat": 51.503963952490004,
           "lon": -0.08161173173,
           "placeType": "PointOfInterest",
           "url": "/Place/"
          },
          "uri": "/journey/journeyresults/nw10%201nd/to/51.50396395249,-0.08161173173?app_id=e5d1123c6c2e491c98b70b1f3e943b87&app_key=c2bfa03caef04faca902f1a58a966c69"
         }
        ],
        "matchStatus": "list"
       },
       "viaLocationDisambiguation": {
        "$type": "Tfl.Api.Presentation.Entities.JourneyPlanner.Disambiguation, Tfl.Api.Presentation.Entities",
        "matchStatus": "empty"
       }
      },
      "text/plain": [
       "<IPython.core.display.JSON object>"
      ]
     },
     "execution_count": 40,
     "metadata": {
      "application/json": {
       "expanded": false,
       "root": "root"
      }
     },
     "output_type": "execute_result"
    }
   ],
   "source": [
    "JSON(postcode_to_text.json())"
   ]
  },
  {
   "cell_type": "code",
   "execution_count": 24,
   "metadata": {},
   "outputs": [],
   "source": [
    "tube_journey_res = get_tfl(\n",
    "    f\"Journey/JourneyResults/{heathrow_airport}/to/{tower_bridge}\",\n",
    "    mode=\"tube\",\n",
    "    time=\"1500\",\n",
    "    timeIs=\"departing\",\n",
    ")"
   ]
  },
  {
   "cell_type": "code",
   "execution_count": 38,
   "metadata": {},
   "outputs": [
    {
     "data": {
      "application/json": {
       "$type": "Tfl.Api.Presentation.Entities.JourneyPlanner.ItineraryResult, Tfl.Api.Presentation.Entities",
       "journeyVector": {
        "$type": "Tfl.Api.Presentation.Entities.JourneyPlanner.JourneyVector, Tfl.Api.Presentation.Entities",
        "from": "-0.44968473098:51.46962511264:WGS84[DD.dddd]",
        "to": "-0.07502752221:51.50599630145:WGS84[DD.dddd]",
        "uri": "/journey/journeyresults/51.46962511264,-0.44968473098/to/51.50599630145,-0.07502752221?mode=tube&time=1500&timeis=departing&app_id=e5d1123c6c2e491c98b70b1f3e943b87&app_key=c2bfa03caef04faca902f1a58a966c69",
        "via": ""
       },
       "journeys": [
        {
         "$type": "Tfl.Api.Presentation.Entities.JourneyPlanner.Journey, Tfl.Api.Presentation.Entities",
         "arrivalDateTime": "2021-03-05T16:15:00",
         "duration": 80,
         "legs": [
          {
           "$type": "Tfl.Api.Presentation.Entities.JourneyPlanner.Leg, Tfl.Api.Presentation.Entities",
           "arrivalPoint": {
            "$type": "Tfl.Api.Presentation.Entities.StopPoint, Tfl.Api.Presentation.Entities",
            "additionalProperties": [],
            "commonName": "Heathrow Terminals 2 & 3 Underground Station",
            "icsCode": "1000105",
            "lat": 51.471637629,
            "lon": -0.45295694328,
            "naptanId": "940GZZLUHRC",
            "placeType": "StopPoint",
            "platformName": ""
           },
           "arrivalTime": "2021-03-05T15:03:00",
           "departurePoint": {
            "$type": "Tfl.Api.Presentation.Entities.StopPoint, Tfl.Api.Presentation.Entities",
            "additionalProperties": [],
            "commonName": "Heathrow Airport Terminals 1-3",
            "icsCode": "99999997",
            "lat": 51.469399547399995,
            "lon": -0.45098816812,
            "placeType": "StopPoint",
            "platformName": ""
           },
           "departureTime": "2021-03-05T14:55:00",
           "disruptions": [],
           "distance": 215,
           "duration": 8,
           "hasFixedLocations": true,
           "instruction": {
            "$type": "Tfl.Api.Presentation.Entities.Instruction, Tfl.Api.Presentation.Entities",
            "detailed": "Walk to Heathrow Terminals 2 & 3 Underground Station",
            "steps": [
             {
              "$type": "Tfl.Api.Presentation.Entities.InstructionStep, Tfl.Api.Presentation.Entities",
              "cumulativeDistance": 215,
              "cumulativeTravelTime": 193,
              "description": " for 215 metres",
              "descriptionHeading": "Continue along ",
              "distance": 215,
              "latitude": 51.469399547399995,
              "longitude": -0.45098816812,
              "pathAttribute": {
               "$type": "Tfl.Api.Presentation.Entities.PathAttribute, Tfl.Api.Presentation.Entities"
              },
              "skyDirection": 479,
              "skyDirectionDescription": "North",
              "streetName": "",
              "trackType": "None",
              "turnDirection": "STRAIGHT"
             }
            ],
            "summary": "Walk to Heathrow Terminals 2 & 3 Underground Station"
           },
           "isDisrupted": false,
           "mode": {
            "$type": "Tfl.Api.Presentation.Entities.Identifier, Tfl.Api.Presentation.Entities",
            "id": "walking",
            "name": "walking",
            "routeType": "Unknown",
            "status": "Unknown",
            "type": "Mode"
           },
           "obstacles": [
            {
             "$type": "Tfl.Api.Presentation.Entities.JourneyPlanner.Obstacle, Tfl.Api.Presentation.Entities",
             "incline": "DOWN",
             "position": "IDEST",
             "stopId": 1000105,
             "type": "ESCALATOR"
            },
            {
             "$type": "Tfl.Api.Presentation.Entities.JourneyPlanner.Obstacle, Tfl.Api.Presentation.Entities",
             "incline": "DOWN",
             "position": "IDEST",
             "stopId": 1000105,
             "type": "ESCALATOR"
            }
           ],
           "path": {
            "$type": "Tfl.Api.Presentation.Entities.JourneyPlanner.Path, Tfl.Api.Presentation.Entities",
            "elevation": [],
            "lineString": "[[51.4693995474, -0.45098816812],[51.47112631229, -0.45236951224],[51.47115175739, -0.45225346537],[51.4714450785, -0.45267548951],[51.471637629, -0.45295694328],[51.47133397351, -0.45296249441]]",
            "stopPoints": []
           },
           "plannedWorks": [],
           "routeOptions": [
            {
             "$type": "Tfl.Api.Presentation.Entities.JourneyPlanner.RouteOption, Tfl.Api.Presentation.Entities",
             "directions": [
              ""
             ],
             "name": ""
            }
           ]
          },
          {
           "$type": "Tfl.Api.Presentation.Entities.JourneyPlanner.Leg, Tfl.Api.Presentation.Entities",
           "arrivalPoint": {
            "$type": "Tfl.Api.Presentation.Entities.StopPoint, Tfl.Api.Presentation.Entities",
            "additionalProperties": [],
            "commonName": "Hammersmith (Dist&Picc Line) Underground Station",
            "icsCode": "1000096",
            "lat": 51.4922132859,
            "lon": -0.22333538775,
            "naptanId": "940GZZLUHSD",
            "placeType": "StopPoint",
            "platformName": ""
           },
           "arrivalTime": "2021-03-05T15:32:00",
           "departurePoint": {
            "$type": "Tfl.Api.Presentation.Entities.StopPoint, Tfl.Api.Presentation.Entities",
            "additionalProperties": [],
            "commonName": "Heathrow Terminals 2 & 3 Underground Station",
            "icsCode": "1000105",
            "lat": 51.471637629,
            "lon": -0.45295694328,
            "naptanId": "940GZZLUHRC",
            "placeType": "StopPoint",
            "platformName": ""
           },
           "departureTime": "2021-03-05T15:03:00",
           "disruptions": [],
           "duration": 29,
           "hasFixedLocations": true,
           "instruction": {
            "$type": "Tfl.Api.Presentation.Entities.Instruction, Tfl.Api.Presentation.Entities",
            "detailed": "Piccadilly line towards Cockfosters",
            "steps": [],
            "summary": "Piccadilly line to Hammersmith (Dist&Picc Line)"
           },
           "isDisrupted": false,
           "mode": {
            "$type": "Tfl.Api.Presentation.Entities.Identifier, Tfl.Api.Presentation.Entities",
            "id": "tube",
            "name": "tube",
            "routeType": "Unknown",
            "status": "Unknown",
            "type": "Mode"
           },
           "obstacles": [
            {
             "$type": "Tfl.Api.Presentation.Entities.JourneyPlanner.Obstacle, Tfl.Api.Presentation.Entities",
             "incline": "LEVEL",
             "position": "AFTER",
             "stopId": 1000096,
             "type": "WALKWAY"
            }
           ],
           "path": {
            "$type": "Tfl.Api.Presentation.Entities.JourneyPlanner.Path, Tfl.Api.Presentation.Entities",
            "elevation": [],
            "lineString": "[[51.47133414008, -0.45297143671],[51.47129625217, -0.45093833188],[51.47119705219, -0.45023617707],[51.46562304245, -0.42736179058],[51.46551394189, -0.42660252651],[51.46550583066, -0.42599815248],[51.46559697209, -0.42541915544],[51.46638638497, -0.42360158321],[51.46638638497, -0.42360158321],[51.46680937918, -0.42262761335],[51.46718153783, -0.42154940001],[51.46922027601, -0.41469773922],[51.46967581535, -0.41314138278],[51.47188053313, -0.40662874577],[51.47266595611, -0.40421118384],[51.4731883564, -0.40229229392],[51.47494220963, -0.39704719586],[51.47507814629, -0.39646644862],[51.47513338514, -0.39590292812],[51.47512038717, -0.39495301203],[51.47498856672, -0.39386327385],[51.47478680503, -0.39291999464],[51.47423550195, -0.39075067401],[51.47358430283, -0.38851292937],[51.47345075673, -0.38795607167],[51.47337113566, -0.38739731574],[51.47335965335, -0.38656257661],[51.4733866923, -0.3859136657],[51.47341926289, -0.385734712],[51.47341926289, -0.385734712],[51.47387990381, -0.38320360757],[51.47400981566, -0.38219106752],[51.47403106901, -0.38112477083],[51.47390051231, -0.38013584652],[51.47368006827, -0.37915011351],[51.47336774641, -0.3780236576],[51.47223737126, -0.37496802597],[51.47157888271, -0.37287484377],[51.47133340786, -0.37138614109],[51.47123772117, -0.37032406734],[51.47125106032, -0.36869657304],[51.47133422543, -0.36620170922],[51.47133422543, -0.36620170922],[51.4713462021, -0.36584229009],[51.471437203, -0.36462956768],[51.47170628789, -0.36264734459],[51.47193784297, -0.36119919215],[51.47212169283, -0.36019909501],[51.47247924827, -0.35876079367],[51.4728923255, -0.35743566677],[51.47309198812, -0.35692453078],[51.47355472319, -0.35612620222],[51.47355472319, -0.35612620222],[51.47425972115, -0.35490986263],[51.47481464229, -0.35408352575],[51.47528513595, -0.35364900059],[51.47574088603, -0.35344539471],[51.47624258518, -0.35331212994],[51.47762670379, -0.35326228544],[51.47850114607, -0.35341800242],[51.47920219297, -0.35339275658],[51.4798650653, -0.35321047201],[51.48028385213, -0.35293616543],[51.48149076439, -0.35181184571],[51.48149076439, -0.35181184571],[51.48165077802, -0.35166277698],[51.48209207177, -0.35107079292],[51.48236279739, -0.35049935335],[51.48257878341, -0.34987227464],[51.48300527151, -0.34822943966],[51.48345936458, -0.34599508165],[51.48368842655, -0.34502183634],[51.48392951692, -0.34426418194],[51.48425966623, -0.34344568222],[51.48476834345, -0.34253428178],[51.49278966746, -0.32986928129],[51.49298247444, -0.32951650763],[51.49354004044, -0.32825725451],[51.4938018695, -0.3277002646],[51.49405676184, -0.32728757871],[51.49505998532, -0.32575263528],[51.49573468815, -0.32481625777],[51.49573468815, -0.32481625777],[51.49669122554, -0.3234886738],[51.49709621533, -0.32288314316],[51.49733208505, -0.32239906485],[51.49831750614, -0.31962555272],[51.49858208852, -0.31863613968],[51.49971676663, -0.31353113831],[51.49971676663, -0.31353113831],[51.50036424411, -0.31061752396],[51.50108944725, -0.30739114955],[51.50108944725, -0.30739114955],[51.50118391718, -0.30697082307],[51.50132127291, -0.30651908558],[51.50231360067, -0.30424901532],[51.502829938, -0.30264491839],[51.50303125403, -0.30164325011],[51.50329277414, -0.29983245096],[51.50433859847, -0.29320863743],[51.50460043866, -0.29204613102],[51.50562103371, -0.28865058866],[51.50578964306, -0.28788057234],[51.50587715008, -0.28709918206],[51.50585659227, -0.28630743346],[51.50570999464, -0.28550600685],[51.50538968178, -0.28450937827],[51.50364425624, -0.28137618171],[51.50277167788, -0.27986003801],[51.50277167788, -0.27986003801],[51.50276765264, -0.27985304418],[51.50209223387, -0.27917247055],[51.50052843591, -0.2780067116],[51.49987182754, -0.27738311875],[51.49874479649, -0.27595607466],[51.49570540839, -0.27107177814],[51.4952880256, -0.27020879586],[51.49492158603, -0.26914221544],[51.49461741054, -0.26803007429],[51.49447542257, -0.26694060845],[51.49450009304, -0.2661761603],[51.49460760363, -0.26493317096],[51.49470011041, -0.26389242917],[51.49510405624, -0.26020352799],[51.49529069168, -0.25642200817],[51.49529539136, -0.25552864659],[51.49526890491, -0.25462221712],[51.49526890491, -0.25462221712],[51.49490995737, -0.24236181984],[51.49482848299, -0.24112603403],[51.49463612357, -0.23969283971],[51.49416765347, -0.23664244205],[51.49413246427, -0.23609637831],[51.4938625608, -0.22952336733],[51.49389162508, -0.22847062012],[51.49387241422, -0.22779429393],[51.4937344074, -0.22699292561],[51.49354399647, -0.22629443585],[51.49330755644, -0.22552571115],[51.49310068802, -0.22492871185],[51.4928333043, -0.22449252917],[51.4920959202, -0.2235783194]]",
            "stopPoints": [
             {
              "$type": "Tfl.Api.Presentation.Entities.Identifier, Tfl.Api.Presentation.Entities",
              "id": "940GZZLUHNX",
              "name": "Hatton Cross Underground Station",
              "routeType": "Unknown",
              "status": "Unknown",
              "type": "StopPoint",
              "uri": "/StopPoint/940GZZLUHNX"
             },
             {
              "$type": "Tfl.Api.Presentation.Entities.Identifier, Tfl.Api.Presentation.Entities",
              "id": "940GZZLUHWT",
              "name": "Hounslow West Underground Station",
              "routeType": "Unknown",
              "status": "Unknown",
              "type": "StopPoint",
              "uri": "/StopPoint/940GZZLUHWT"
             },
             {
              "$type": "Tfl.Api.Presentation.Entities.Identifier, Tfl.Api.Presentation.Entities",
              "id": "940GZZLUHWC",
              "name": "Hounslow Central Underground Station",
              "routeType": "Unknown",
              "status": "Unknown",
              "type": "StopPoint",
              "uri": "/StopPoint/940GZZLUHWC"
             },
             {
              "$type": "Tfl.Api.Presentation.Entities.Identifier, Tfl.Api.Presentation.Entities",
              "id": "940GZZLUHWE",
              "name": "Hounslow East Underground Station",
              "routeType": "Unknown",
              "status": "Unknown",
              "type": "StopPoint",
              "uri": "/StopPoint/940GZZLUHWE"
             },
             {
              "$type": "Tfl.Api.Presentation.Entities.Identifier, Tfl.Api.Presentation.Entities",
              "id": "940GZZLUOSY",
              "name": "Osterley Underground Station",
              "routeType": "Unknown",
              "status": "Unknown",
              "type": "StopPoint",
              "uri": "/StopPoint/940GZZLUOSY"
             },
             {
              "$type": "Tfl.Api.Presentation.Entities.Identifier, Tfl.Api.Presentation.Entities",
              "id": "940GZZLUBOS",
              "name": "Boston Manor Underground Station",
              "routeType": "Unknown",
              "status": "Unknown",
              "type": "StopPoint",
              "uri": "/StopPoint/940GZZLUBOS"
             },
             {
              "$type": "Tfl.Api.Presentation.Entities.Identifier, Tfl.Api.Presentation.Entities",
              "id": "940GZZLUNFD",
              "name": "Northfields Underground Station",
              "routeType": "Unknown",
              "status": "Unknown",
              "type": "StopPoint",
              "uri": "/StopPoint/940GZZLUNFD"
             },
             {
              "$type": "Tfl.Api.Presentation.Entities.Identifier, Tfl.Api.Presentation.Entities",
              "id": "940GZZLUSEA",
              "name": "South Ealing Underground Station",
              "routeType": "Unknown",
              "status": "Unknown",
              "type": "StopPoint",
              "uri": "/StopPoint/940GZZLUSEA"
             },
             {
              "$type": "Tfl.Api.Presentation.Entities.Identifier, Tfl.Api.Presentation.Entities",
              "id": "940GZZLUACT",
              "name": "Acton Town Underground Station",
              "routeType": "Unknown",
              "status": "Unknown",
              "type": "StopPoint",
              "uri": "/StopPoint/940GZZLUACT"
             },
             {
              "$type": "Tfl.Api.Presentation.Entities.Identifier, Tfl.Api.Presentation.Entities",
              "id": "940GZZLUHSD",
              "name": "Hammersmith (Dist&Picc Line) Underground Station",
              "routeType": "Unknown",
              "status": "Unknown",
              "type": "StopPoint",
              "uri": "/StopPoint/940GZZLUHSD"
             }
            ]
           },
           "plannedWorks": [],
           "routeOptions": [
            {
             "$type": "Tfl.Api.Presentation.Entities.JourneyPlanner.RouteOption, Tfl.Api.Presentation.Entities",
             "directions": [
              "Cockfosters Underground Station"
             ],
             "lineIdentifier": {
              "$type": "Tfl.Api.Presentation.Entities.Identifier, Tfl.Api.Presentation.Entities",
              "crowding": {
               "$type": "Tfl.Api.Presentation.Entities.Crowding, Tfl.Api.Presentation.Entities"
              },
              "id": "piccadilly",
              "name": "Piccadilly",
              "routeType": "Unknown",
              "status": "Unknown",
              "type": "Line",
              "uri": "/Line/piccadilly"
             },
             "name": "Piccadilly"
            }
           ]
          },
          {
           "$type": "Tfl.Api.Presentation.Entities.JourneyPlanner.Leg, Tfl.Api.Presentation.Entities",
           "arrivalPoint": {
            "$type": "Tfl.Api.Presentation.Entities.StopPoint, Tfl.Api.Presentation.Entities",
            "additionalProperties": [],
            "commonName": "Tower Hill Underground Station",
            "icsCode": "1000238",
            "lat": 51.50965277573,
            "lon": -0.0770062307,
            "naptanId": "940GZZLUTWH",
            "placeType": "StopPoint",
            "platformName": ""
           },
           "arrivalTime": "2021-03-05T16:03:00",
           "departurePoint": {
            "$type": "Tfl.Api.Presentation.Entities.StopPoint, Tfl.Api.Presentation.Entities",
            "additionalProperties": [],
            "commonName": "Hammersmith (Dist&Picc Line) Underground Station",
            "icsCode": "1000096",
            "lat": 51.492256476719994,
            "lon": -0.22321846650000002,
            "naptanId": "940GZZLUHSD",
            "placeType": "StopPoint",
            "platformName": ""
           },
           "departureTime": "2021-03-05T15:33:00",
           "disruptions": [],
           "duration": 30,
           "hasFixedLocations": true,
           "instruction": {
            "$type": "Tfl.Api.Presentation.Entities.Instruction, Tfl.Api.Presentation.Entities",
            "detailed": "District line towards Upminster",
            "steps": [],
            "summary": "District line to Tower Hill"
           },
           "isDisrupted": false,
           "mode": {
            "$type": "Tfl.Api.Presentation.Entities.Identifier, Tfl.Api.Presentation.Entities",
            "id": "tube",
            "name": "tube",
            "routeType": "Unknown",
            "status": "Unknown",
            "type": "Mode"
           },
           "obstacles": [],
           "path": {
            "$type": "Tfl.Api.Presentation.Entities.JourneyPlanner.Path, Tfl.Api.Presentation.Entities",
            "elevation": [],
            "lineString": "[[51.49208760477, -0.22356801013],[51.4910645424, -0.22229967955],[51.49062992288, -0.22150991913],[51.49034895321, -0.22077181035],[51.49018503026, -0.22004355659],[51.49011471448, -0.21896595054],[51.4901460911, -0.21807164222],[51.49041793613, -0.21643331258],[51.49047428308, -0.21540837889],[51.49042292219, -0.21415752913],[51.49042292219, -0.21415752913],[51.49040282633, -0.21366820117],[51.49016057498, -0.21134412118],[51.49031239024, -0.20891819446],[51.49082224137, -0.20617272801],[51.49082224137, -0.20617272801],[51.49101029725, -0.20515997396],[51.4910095878, -0.20452618611],[51.49090274014, -0.20342120885],[51.49062705245, -0.2018619248],[51.49049372764, -0.20137740912],[51.49021616645, -0.20086976491],[51.48981978322, -0.20023716482],[51.48967724378, -0.19973862077],[51.48961337489, -0.19909293535],[51.4896001071, -0.19822919003],[51.4896975539, -0.19754833679],[51.48997363039, -0.19678841006],[51.49053241398, -0.19570040991],[51.49176926194, -0.19383235919],[51.49176926194, -0.19383235919],[51.49250094582, -0.19272720411],[51.4940688846, -0.19060515021],[51.49446241221, -0.18988367282],[51.49475396596, -0.18896453843],[51.49486799732, -0.18819649308],[51.49495269862, -0.18669489221],[51.49488363497, -0.18571801418],[51.4946523523, -0.18471877111],[51.49429434407, -0.18311980226],[51.49429434407, -0.18311980226],[51.49420795866, -0.18273399814],[51.49394701123, -0.18156309445],[51.49383207696, -0.18053044806],[51.49388296801, -0.17917427153],[51.49418157766, -0.17524395382],[51.49413444819, -0.17394930107],[51.49410537443, -0.17304276088],[51.49410537443, -0.17304276088],[51.49397701935, -0.16904318096],[51.49388955135, -0.16574773969],[51.4935821644, -0.16104938568],[51.4933850391, -0.15994807731],[51.49232944642, -0.15611967477],[51.49232944642, -0.15611967477],[51.49220260052, -0.1556596748],[51.49203419789, -0.15467250467],[51.49196864177, -0.15336426993],[51.4919550368, -0.15250050208],[51.49203596861, -0.15135920979],[51.49217467015, -0.15046046611],[51.4924521552, -0.14923917703],[51.49279354996, -0.1486491277],[51.49433974243, -0.14747721673],[51.49559299982, -0.14654761224],[51.49602447545, -0.14596825275],[51.4964152192, -0.14508799447],[51.49666102898, -0.1441415737],[51.49677372683, -0.14350601902],[51.49677372683, -0.14350601902],[51.49705728358, -0.14190681254],[51.4973873904, -0.13947300677],[51.49759187705, -0.13875873199],[51.49935006435, -0.13452329177],[51.49937923781, -0.13443898791],[51.49937923781, -0.13443898791],[51.49960798215, -0.13377796535],[51.49976612469, -0.13297907664],[51.49979592553, -0.13202694365],[51.49977810033, -0.12978005537],[51.49984405157, -0.12884084682],[51.50000376901, -0.12814272697],[51.50102555928, -0.12568028136],[51.50137149336, -0.12498395938],[51.50137149336, -0.12498395938],[51.50147859369, -0.12476837597],[51.50174266672, -0.12441173341],[51.502161354, -0.12416400578],[51.50480089264, -0.12333513804],[51.50680168156, -0.12248919741],[51.50704777138, -0.1223154693],[51.50704777138, -0.1223154693],[51.50714847102, -0.12224437937],[51.50741599446, -0.12210368848],[51.5085669555, -0.12097556868],[51.50911166347, -0.12017497591],[51.50952962959, -0.11932193936],[51.51001139472, -0.11796187151],[51.51045488464, -0.11645924112],[51.51083544893, -0.11495917859],[51.51087243493, -0.11475352518],[51.51087243493, -0.11475352518],[51.51109134004, -0.11353629815],[51.51122232911, -0.11217621086],[51.51116494362, -0.10638518564],[51.51121598831, -0.10564808458],[51.51143102308, -0.10448624196],[51.51165437619, -0.10306849119],[51.51165437619, -0.10306849119],[51.51184694383, -0.10184605465],[51.51186610327, -0.10080761779],[51.51162170646, -0.09682576886],[51.51164315965, -0.09593135482],[51.51170825371, -0.09474586467],[51.51170825371, -0.09474586467],[51.51178194535, -0.09340352761],[51.51173593074, -0.09278574798],[51.51162536775, -0.09206978502],[51.5114190761, -0.09099753782],[51.51137539369, -0.09052378318],[51.51137426445, -0.09049453],[51.51137426445, -0.09049453],[51.5113287325, -0.08931516623],[51.51126824381, -0.08891417494],[51.51074116443, -0.08616777694],[51.51074116443, -0.08616777694],[51.51072772627, -0.08609776127],[51.50944454652, -0.08021422998],[51.50931357635, -0.0793550812],[51.50932022697, -0.07866307777],[51.50938267981, -0.07808401299],[51.50948131137, -0.07751783453],[51.50965515438, -0.07700831491]]",
            "stopPoints": [
             {
              "$type": "Tfl.Api.Presentation.Entities.Identifier, Tfl.Api.Presentation.Entities",
              "id": "940GZZLUBSC",
              "name": "Barons Court Underground Station",
              "routeType": "Unknown",
              "status": "Unknown",
              "type": "StopPoint",
              "uri": "/StopPoint/940GZZLUBSC"
             },
             {
              "$type": "Tfl.Api.Presentation.Entities.Identifier, Tfl.Api.Presentation.Entities",
              "id": "940GZZLUWKN",
              "name": "West Kensington Underground Station",
              "routeType": "Unknown",
              "status": "Unknown",
              "type": "StopPoint",
              "uri": "/StopPoint/940GZZLUWKN"
             },
             {
              "$type": "Tfl.Api.Presentation.Entities.Identifier, Tfl.Api.Presentation.Entities",
              "id": "940GZZLUECT",
              "name": "Earl's Court Underground Station",
              "routeType": "Unknown",
              "status": "Unknown",
              "type": "StopPoint",
              "uri": "/StopPoint/940GZZLUECT"
             },
             {
              "$type": "Tfl.Api.Presentation.Entities.Identifier, Tfl.Api.Presentation.Entities",
              "id": "940GZZLUGTR",
              "name": "Gloucester Road Underground Station",
              "routeType": "Unknown",
              "status": "Unknown",
              "type": "StopPoint",
              "uri": "/StopPoint/940GZZLUGTR"
             },
             {
              "$type": "Tfl.Api.Presentation.Entities.Identifier, Tfl.Api.Presentation.Entities",
              "id": "940GZZLUSKS",
              "name": "South Kensington Underground Station",
              "routeType": "Unknown",
              "status": "Unknown",
              "type": "StopPoint",
              "uri": "/StopPoint/940GZZLUSKS"
             },
             {
              "$type": "Tfl.Api.Presentation.Entities.Identifier, Tfl.Api.Presentation.Entities",
              "id": "940GZZLUSSQ",
              "name": "Sloane Square Underground Station",
              "routeType": "Unknown",
              "status": "Unknown",
              "type": "StopPoint",
              "uri": "/StopPoint/940GZZLUSSQ"
             },
             {
              "$type": "Tfl.Api.Presentation.Entities.Identifier, Tfl.Api.Presentation.Entities",
              "id": "940GZZLUVIC",
              "name": "Victoria Underground Station",
              "routeType": "Unknown",
              "status": "Unknown",
              "type": "StopPoint",
              "uri": "/StopPoint/940GZZLUVIC"
             },
             {
              "$type": "Tfl.Api.Presentation.Entities.Identifier, Tfl.Api.Presentation.Entities",
              "id": "940GZZLUSJP",
              "name": "St. James's Park Underground Station",
              "routeType": "Unknown",
              "status": "Unknown",
              "type": "StopPoint",
              "uri": "/StopPoint/940GZZLUSJP"
             },
             {
              "$type": "Tfl.Api.Presentation.Entities.Identifier, Tfl.Api.Presentation.Entities",
              "id": "940GZZLUWSM",
              "name": "Westminster Underground Station",
              "routeType": "Unknown",
              "status": "Unknown",
              "type": "StopPoint",
              "uri": "/StopPoint/940GZZLUWSM"
             },
             {
              "$type": "Tfl.Api.Presentation.Entities.Identifier, Tfl.Api.Presentation.Entities",
              "id": "940GZZLUEMB",
              "name": "Embankment Underground Station",
              "routeType": "Unknown",
              "status": "Unknown",
              "type": "StopPoint",
              "uri": "/StopPoint/940GZZLUEMB"
             },
             {
              "$type": "Tfl.Api.Presentation.Entities.Identifier, Tfl.Api.Presentation.Entities",
              "id": "940GZZLUTMP",
              "name": "Temple Underground Station",
              "routeType": "Unknown",
              "status": "Unknown",
              "type": "StopPoint",
              "uri": "/StopPoint/940GZZLUTMP"
             },
             {
              "$type": "Tfl.Api.Presentation.Entities.Identifier, Tfl.Api.Presentation.Entities",
              "id": "940GZZLUBKF",
              "name": "Blackfriars Underground Station",
              "routeType": "Unknown",
              "status": "Unknown",
              "type": "StopPoint",
              "uri": "/StopPoint/940GZZLUBKF"
             },
             {
              "$type": "Tfl.Api.Presentation.Entities.Identifier, Tfl.Api.Presentation.Entities",
              "id": "940GZZLUMSH",
              "name": "Mansion House Underground Station",
              "routeType": "Unknown",
              "status": "Unknown",
              "type": "StopPoint",
              "uri": "/StopPoint/940GZZLUMSH"
             },
             {
              "$type": "Tfl.Api.Presentation.Entities.Identifier, Tfl.Api.Presentation.Entities",
              "id": "940GZZLUCST",
              "name": "Cannon Street Underground Station",
              "routeType": "Unknown",
              "status": "Unknown",
              "type": "StopPoint",
              "uri": "/StopPoint/940GZZLUCST"
             },
             {
              "$type": "Tfl.Api.Presentation.Entities.Identifier, Tfl.Api.Presentation.Entities",
              "id": "940GZZLUMMT",
              "name": "Monument Underground Station",
              "routeType": "Unknown",
              "status": "Unknown",
              "type": "StopPoint",
              "uri": "/StopPoint/940GZZLUMMT"
             },
             {
              "$type": "Tfl.Api.Presentation.Entities.Identifier, Tfl.Api.Presentation.Entities",
              "id": "940GZZLUTWH",
              "name": "Tower Hill Underground Station",
              "routeType": "Unknown",
              "status": "Unknown",
              "type": "StopPoint",
              "uri": "/StopPoint/940GZZLUTWH"
             }
            ]
           },
           "plannedWorks": [],
           "routeOptions": [
            {
             "$type": "Tfl.Api.Presentation.Entities.JourneyPlanner.RouteOption, Tfl.Api.Presentation.Entities",
             "directions": [
              "Upminster Underground Station"
             ],
             "lineIdentifier": {
              "$type": "Tfl.Api.Presentation.Entities.Identifier, Tfl.Api.Presentation.Entities",
              "crowding": {
               "$type": "Tfl.Api.Presentation.Entities.Crowding, Tfl.Api.Presentation.Entities"
              },
              "id": "district",
              "name": "District",
              "routeType": "Unknown",
              "status": "Unknown",
              "type": "Line",
              "uri": "/Line/district"
             },
             "name": "District"
            }
           ]
          },
          {
           "$type": "Tfl.Api.Presentation.Entities.JourneyPlanner.Leg, Tfl.Api.Presentation.Entities",
           "arrivalPoint": {
            "$type": "Tfl.Api.Presentation.Entities.Place, Tfl.Api.Presentation.Entities",
            "commonName": "1 Tower Bridge, Tower Hamlets",
            "lat": 51.50599630145,
            "lon": -0.07502752220999999,
            "placeType": "StopPoint"
           },
           "arrivalTime": "2021-03-05T16:15:00",
           "departurePoint": {
            "$type": "Tfl.Api.Presentation.Entities.StopPoint, Tfl.Api.Presentation.Entities",
            "additionalProperties": [],
            "commonName": "Tower Hill Underground Station",
            "icsCode": "1000238",
            "lat": 51.50965277573,
            "lon": -0.0770062307,
            "naptanId": "940GZZLUTWH",
            "placeType": "StopPoint",
            "platformName": ""
           },
           "departureTime": "2021-03-05T16:03:00",
           "disruptions": [],
           "distance": 608,
           "duration": 12,
           "hasFixedLocations": false,
           "instruction": {
            "$type": "Tfl.Api.Presentation.Entities.Instruction, Tfl.Api.Presentation.Entities",
            "detailed": "Walk to 1 Tower Bridge, Tower Hamlets",
            "steps": [
             {
              "$type": "Tfl.Api.Presentation.Entities.InstructionStep, Tfl.Api.Presentation.Entities",
              "cumulativeDistance": 123,
              "cumulativeTravelTime": 111,
              "description": " for 123 metres",
              "descriptionHeading": "Continue along ",
              "distance": 123,
              "latitude": 51.50988714247,
              "longitude": -0.07649197353000001,
              "pathAttribute": {
               "$type": "Tfl.Api.Presentation.Entities.PathAttribute, Tfl.Api.Presentation.Entities"
              },
              "skyDirection": 441,
              "skyDirectionDescription": "North",
              "streetName": "",
              "trackType": "None",
              "turnDirection": "STRAIGHT"
             },
             {
              "$type": "Tfl.Api.Presentation.Entities.InstructionStep, Tfl.Api.Presentation.Entities",
              "cumulativeDistance": 140,
              "cumulativeTravelTime": 126,
              "description": "on to Minories, continue for 17 metres",
              "descriptionHeading": "Take a slight right",
              "distance": 17,
              "latitude": 51.51004726435,
              "longitude": -0.07474148037,
              "pathAttribute": {
               "$type": "Tfl.Api.Presentation.Entities.PathAttribute, Tfl.Api.Presentation.Entities"
              },
              "skyDirection": 504,
              "skyDirectionDescription": "North",
              "streetName": "Minories",
              "trackType": "None",
              "turnDirection": "SLIGHT_RIGHT"
             },
             {
              "$type": "Tfl.Api.Presentation.Entities.InstructionStep, Tfl.Api.Presentation.Entities",
              "cumulativeDistance": 230,
              "cumulativeTravelTime": 207,
              "description": "on to Tower Hill, continue for 90 metres",
              "descriptionHeading": "Continue along ",
              "distance": 90,
              "latitude": 51.509919091069996,
              "longitude": -0.07460277288,
              "pathAttribute": {
               "$type": "Tfl.Api.Presentation.Entities.PathAttribute, Tfl.Api.Presentation.Entities"
              },
              "skyDirection": 500,
              "skyDirectionDescription": "North",
              "streetName": "Tower Hill",
              "trackType": "None",
              "turnDirection": "STRAIGHT"
             },
             {
              "$type": "Tfl.Api.Presentation.Entities.InstructionStep, Tfl.Api.Presentation.Entities",
              "cumulativeDistance": 546,
              "cumulativeTravelTime": 491,
              "description": "on to Tower Bridge Approach, continue for 316 metres",
              "descriptionHeading": "Take a slight right",
              "distance": 316,
              "latitude": 51.509285553039994,
              "longitude": -0.07380806143,
              "pathAttribute": {
               "$type": "Tfl.Api.Presentation.Entities.PathAttribute, Tfl.Api.Presentation.Entities"
              },
              "skyDirection": 190,
              "skyDirectionDescription": "North",
              "streetName": "Tower Bridge Approach",
              "trackType": "None",
              "turnDirection": "SLIGHT_RIGHT"
             },
             {
              "$type": "Tfl.Api.Presentation.Entities.InstructionStep, Tfl.Api.Presentation.Entities",
              "cumulativeDistance": 608,
              "cumulativeTravelTime": 546,
              "description": "on to Tower Bridge, continue for 62 metres",
              "descriptionHeading": "Continue along ",
              "distance": 62,
              "latitude": 51.50651207448,
              "longitude": -0.07467435327000001,
              "pathAttribute": {
               "$type": "Tfl.Api.Presentation.Entities.PathAttribute, Tfl.Api.Presentation.Entities"
              },
              "skyDirection": 202,
              "skyDirectionDescription": "North",
              "streetName": "Tower Bridge",
              "trackType": "None",
              "turnDirection": "STRAIGHT"
             }
            ],
            "summary": "Walk to 1 Tower Bridge, Tower Hamlets"
           },
           "isDisrupted": false,
           "mode": {
            "$type": "Tfl.Api.Presentation.Entities.Identifier, Tfl.Api.Presentation.Entities",
            "id": "walking",
            "name": "walking",
            "routeType": "Unknown",
            "status": "Unknown",
            "type": "Mode"
           },
           "obstacles": [
            {
             "$type": "Tfl.Api.Presentation.Entities.JourneyPlanner.Obstacle, Tfl.Api.Presentation.Entities",
             "incline": "UP",
             "position": "BEFORE",
             "stopId": 1000238,
             "type": "STAIRS"
            },
            {
             "$type": "Tfl.Api.Presentation.Entities.JourneyPlanner.Obstacle, Tfl.Api.Presentation.Entities",
             "incline": "UP",
             "position": "BEFORE",
             "stopId": 1000238,
             "type": "STAIRS"
            }
           ],
           "path": {
            "$type": "Tfl.Api.Presentation.Entities.JourneyPlanner.Path, Tfl.Api.Presentation.Entities",
            "elevation": [],
            "lineString": "[[51.50965277573, -0.0770062307],[51.50983534983, -0.07662385474],[51.50983298801, -0.07647984344],[51.50988714247, -0.07649197353],[51.50994604037, -0.07569688147],[51.50997087283, -0.07556613498],[51.51004726435, -0.07474148037],[51.50991909107, -0.07460277288],[51.50968024384, -0.07429580021],[51.5094690644, -0.07403089675],[51.50928555304, -0.07380806143],[51.50908879906, -0.07387400345],[51.50877593176, -0.07398807411],[51.50857823169, -0.0739964117],[51.50844390916, -0.07403089771],[51.50782550511, -0.07415784955],[51.50715365551, -0.07431587169],[51.50694815118, -0.07439658728],[51.50688571945, -0.07442803979],[51.50651207448, -0.07467435327],[51.50599630145, -0.07502752221]]",
            "stopPoints": []
           },
           "plannedWorks": [],
           "routeOptions": [
            {
             "$type": "Tfl.Api.Presentation.Entities.JourneyPlanner.RouteOption, Tfl.Api.Presentation.Entities",
             "directions": [
              ""
             ],
             "name": ""
            }
           ]
          }
         ],
         "startDateTime": "2021-03-05T14:55:00"
        },
        {
         "$type": "Tfl.Api.Presentation.Entities.JourneyPlanner.Journey, Tfl.Api.Presentation.Entities",
         "arrivalDateTime": "2021-03-05T16:22:00",
         "duration": 82,
         "legs": [
          {
           "$type": "Tfl.Api.Presentation.Entities.JourneyPlanner.Leg, Tfl.Api.Presentation.Entities",
           "arrivalPoint": {
            "$type": "Tfl.Api.Presentation.Entities.StopPoint, Tfl.Api.Presentation.Entities",
            "additionalProperties": [],
            "commonName": "Heathrow Terminals 2 & 3 Underground Station",
            "icsCode": "1000105",
            "lat": 51.471637629,
            "lon": -0.45295694328,
            "naptanId": "940GZZLUHRC",
            "placeType": "StopPoint",
            "platformName": ""
           },
           "arrivalTime": "2021-03-05T15:08:00",
           "departurePoint": {
            "$type": "Tfl.Api.Presentation.Entities.StopPoint, Tfl.Api.Presentation.Entities",
            "additionalProperties": [],
            "commonName": "Heathrow Airport Terminals 1-3",
            "icsCode": "99999997",
            "lat": 51.469399547399995,
            "lon": -0.45098816812,
            "placeType": "StopPoint",
            "platformName": ""
           },
           "departureTime": "2021-03-05T15:00:00",
           "disruptions": [],
           "distance": 215,
           "duration": 8,
           "hasFixedLocations": true,
           "instruction": {
            "$type": "Tfl.Api.Presentation.Entities.Instruction, Tfl.Api.Presentation.Entities",
            "detailed": "Walk to Heathrow Terminals 2 & 3 Underground Station",
            "steps": [
             {
              "$type": "Tfl.Api.Presentation.Entities.InstructionStep, Tfl.Api.Presentation.Entities",
              "cumulativeDistance": 215,
              "cumulativeTravelTime": 193,
              "description": " for 215 metres",
              "descriptionHeading": "Continue along ",
              "distance": 215,
              "latitude": 51.469399547399995,
              "longitude": -0.45098816812,
              "pathAttribute": {
               "$type": "Tfl.Api.Presentation.Entities.PathAttribute, Tfl.Api.Presentation.Entities"
              },
              "skyDirection": 479,
              "skyDirectionDescription": "North",
              "streetName": "",
              "trackType": "None",
              "turnDirection": "STRAIGHT"
             }
            ],
            "summary": "Walk to Heathrow Terminals 2 & 3 Underground Station"
           },
           "isDisrupted": false,
           "mode": {
            "$type": "Tfl.Api.Presentation.Entities.Identifier, Tfl.Api.Presentation.Entities",
            "id": "walking",
            "name": "walking",
            "routeType": "Unknown",
            "status": "Unknown",
            "type": "Mode"
           },
           "obstacles": [
            {
             "$type": "Tfl.Api.Presentation.Entities.JourneyPlanner.Obstacle, Tfl.Api.Presentation.Entities",
             "incline": "DOWN",
             "position": "IDEST",
             "stopId": 1000105,
             "type": "ESCALATOR"
            },
            {
             "$type": "Tfl.Api.Presentation.Entities.JourneyPlanner.Obstacle, Tfl.Api.Presentation.Entities",
             "incline": "DOWN",
             "position": "IDEST",
             "stopId": 1000105,
             "type": "ESCALATOR"
            }
           ],
           "path": {
            "$type": "Tfl.Api.Presentation.Entities.JourneyPlanner.Path, Tfl.Api.Presentation.Entities",
            "elevation": [],
            "lineString": "[[51.4693995474, -0.45098816812],[51.47112631229, -0.45236951224],[51.47115175739, -0.45225346537],[51.4714450785, -0.45267548951],[51.471637629, -0.45295694328],[51.47133397351, -0.45296249441]]",
            "stopPoints": []
           },
           "plannedWorks": [],
           "routeOptions": [
            {
             "$type": "Tfl.Api.Presentation.Entities.JourneyPlanner.RouteOption, Tfl.Api.Presentation.Entities",
             "directions": [
              ""
             ],
             "name": ""
            }
           ]
          },
          {
           "$type": "Tfl.Api.Presentation.Entities.JourneyPlanner.Leg, Tfl.Api.Presentation.Entities",
           "arrivalPoint": {
            "$type": "Tfl.Api.Presentation.Entities.StopPoint, Tfl.Api.Presentation.Entities",
            "additionalProperties": [],
            "commonName": "Hammersmith (Dist&Picc Line) Underground Station",
            "icsCode": "1000096",
            "lat": 51.4922132859,
            "lon": -0.22333538775,
            "naptanId": "940GZZLUHSD",
            "placeType": "StopPoint",
            "platformName": ""
           },
           "arrivalTime": "2021-03-05T15:37:00",
           "departurePoint": {
            "$type": "Tfl.Api.Presentation.Entities.StopPoint, Tfl.Api.Presentation.Entities",
            "additionalProperties": [],
            "commonName": "Heathrow Terminals 2 & 3 Underground Station",
            "icsCode": "1000105",
            "lat": 51.471637629,
            "lon": -0.45295694328,
            "naptanId": "940GZZLUHRC",
            "placeType": "StopPoint",
            "platformName": ""
           },
           "departureTime": "2021-03-05T15:08:00",
           "disruptions": [],
           "duration": 29,
           "hasFixedLocations": true,
           "instruction": {
            "$type": "Tfl.Api.Presentation.Entities.Instruction, Tfl.Api.Presentation.Entities",
            "detailed": "Piccadilly line towards Cockfosters, or Arnos Grove",
            "steps": [],
            "summary": "Piccadilly line to Hammersmith (Dist&Picc Line)"
           },
           "isDisrupted": false,
           "mode": {
            "$type": "Tfl.Api.Presentation.Entities.Identifier, Tfl.Api.Presentation.Entities",
            "id": "tube",
            "name": "tube",
            "routeType": "Unknown",
            "status": "Unknown",
            "type": "Mode"
           },
           "obstacles": [
            {
             "$type": "Tfl.Api.Presentation.Entities.JourneyPlanner.Obstacle, Tfl.Api.Presentation.Entities",
             "incline": "LEVEL",
             "position": "AFTER",
             "stopId": 1000096,
             "type": "WALKWAY"
            }
           ],
           "path": {
            "$type": "Tfl.Api.Presentation.Entities.JourneyPlanner.Path, Tfl.Api.Presentation.Entities",
            "elevation": [],
            "lineString": "[[51.47133414008, -0.45297143671],[51.47129625217, -0.45093833188],[51.47119705219, -0.45023617707],[51.46562304245, -0.42736179058],[51.46551394189, -0.42660252651],[51.46550583066, -0.42599815248],[51.46559697209, -0.42541915544],[51.46638638497, -0.42360158321],[51.46638638497, -0.42360158321],[51.46680937918, -0.42262761335],[51.46718153783, -0.42154940001],[51.46922027601, -0.41469773922],[51.46967581535, -0.41314138278],[51.47188053313, -0.40662874577],[51.47266595611, -0.40421118384],[51.4731883564, -0.40229229392],[51.47494220963, -0.39704719586],[51.47507814629, -0.39646644862],[51.47513338514, -0.39590292812],[51.47512038717, -0.39495301203],[51.47498856672, -0.39386327385],[51.47478680503, -0.39291999464],[51.47423550195, -0.39075067401],[51.47358430283, -0.38851292937],[51.47345075673, -0.38795607167],[51.47337113566, -0.38739731574],[51.47335965335, -0.38656257661],[51.4733866923, -0.3859136657],[51.47341926289, -0.385734712],[51.47341926289, -0.385734712],[51.47387990381, -0.38320360757],[51.47400981566, -0.38219106752],[51.47403106901, -0.38112477083],[51.47390051231, -0.38013584652],[51.47368006827, -0.37915011351],[51.47336774641, -0.3780236576],[51.47223737126, -0.37496802597],[51.47157888271, -0.37287484377],[51.47133340786, -0.37138614109],[51.47123772117, -0.37032406734],[51.47125106032, -0.36869657304],[51.47133422543, -0.36620170922],[51.47133422543, -0.36620170922],[51.4713462021, -0.36584229009],[51.471437203, -0.36462956768],[51.47170628789, -0.36264734459],[51.47193784297, -0.36119919215],[51.47212169283, -0.36019909501],[51.47247924827, -0.35876079367],[51.4728923255, -0.35743566677],[51.47309198812, -0.35692453078],[51.47355472319, -0.35612620222],[51.47355472319, -0.35612620222],[51.47425972115, -0.35490986263],[51.47481464229, -0.35408352575],[51.47528513595, -0.35364900059],[51.47574088603, -0.35344539471],[51.47624258518, -0.35331212994],[51.47762670379, -0.35326228544],[51.47850114607, -0.35341800242],[51.47920219297, -0.35339275658],[51.4798650653, -0.35321047201],[51.48028385213, -0.35293616543],[51.48149076439, -0.35181184571],[51.48149076439, -0.35181184571],[51.48165077802, -0.35166277698],[51.48209207177, -0.35107079292],[51.48236279739, -0.35049935335],[51.48257878341, -0.34987227464],[51.48300527151, -0.34822943966],[51.48345936458, -0.34599508165],[51.48368842655, -0.34502183634],[51.48392951692, -0.34426418194],[51.48425966623, -0.34344568222],[51.48476834345, -0.34253428178],[51.49278966746, -0.32986928129],[51.49298247444, -0.32951650763],[51.49354004044, -0.32825725451],[51.4938018695, -0.3277002646],[51.49405676184, -0.32728757871],[51.49505998532, -0.32575263528],[51.49573468815, -0.32481625777],[51.49573468815, -0.32481625777],[51.49669122554, -0.3234886738],[51.49709621533, -0.32288314316],[51.49733208505, -0.32239906485],[51.49831750614, -0.31962555272],[51.49858208852, -0.31863613968],[51.49971676663, -0.31353113831],[51.49971676663, -0.31353113831],[51.50036424411, -0.31061752396],[51.50108944725, -0.30739114955],[51.50108944725, -0.30739114955],[51.50118391718, -0.30697082307],[51.50132127291, -0.30651908558],[51.50231360067, -0.30424901532],[51.502829938, -0.30264491839],[51.50303125403, -0.30164325011],[51.50329277414, -0.29983245096],[51.50433859847, -0.29320863743],[51.50460043866, -0.29204613102],[51.50562103371, -0.28865058866],[51.50578964306, -0.28788057234],[51.50587715008, -0.28709918206],[51.50585659227, -0.28630743346],[51.50570999464, -0.28550600685],[51.50538968178, -0.28450937827],[51.50364425624, -0.28137618171],[51.50277167788, -0.27986003801],[51.50277167788, -0.27986003801],[51.50276765264, -0.27985304418],[51.50209223387, -0.27917247055],[51.50052843591, -0.2780067116],[51.49987182754, -0.27738311875],[51.49874479649, -0.27595607466],[51.49570540839, -0.27107177814],[51.4952880256, -0.27020879586],[51.49492158603, -0.26914221544],[51.49461741054, -0.26803007429],[51.49447542257, -0.26694060845],[51.49450009304, -0.2661761603],[51.49460760363, -0.26493317096],[51.49470011041, -0.26389242917],[51.49510405624, -0.26020352799],[51.49529069168, -0.25642200817],[51.49529539136, -0.25552864659],[51.49526890491, -0.25462221712],[51.49526890491, -0.25462221712],[51.49490995737, -0.24236181984],[51.49482848299, -0.24112603403],[51.49463612357, -0.23969283971],[51.49416765347, -0.23664244205],[51.49413246427, -0.23609637831],[51.4938625608, -0.22952336733],[51.49389162508, -0.22847062012],[51.49387241422, -0.22779429393],[51.4937344074, -0.22699292561],[51.49354399647, -0.22629443585],[51.49330755644, -0.22552571115],[51.49310068802, -0.22492871185],[51.4928333043, -0.22449252917],[51.4920959202, -0.2235783194]]",
            "stopPoints": [
             {
              "$type": "Tfl.Api.Presentation.Entities.Identifier, Tfl.Api.Presentation.Entities",
              "id": "940GZZLUHNX",
              "name": "Hatton Cross Underground Station",
              "routeType": "Unknown",
              "status": "Unknown",
              "type": "StopPoint",
              "uri": "/StopPoint/940GZZLUHNX"
             },
             {
              "$type": "Tfl.Api.Presentation.Entities.Identifier, Tfl.Api.Presentation.Entities",
              "id": "940GZZLUHWT",
              "name": "Hounslow West Underground Station",
              "routeType": "Unknown",
              "status": "Unknown",
              "type": "StopPoint",
              "uri": "/StopPoint/940GZZLUHWT"
             },
             {
              "$type": "Tfl.Api.Presentation.Entities.Identifier, Tfl.Api.Presentation.Entities",
              "id": "940GZZLUHWC",
              "name": "Hounslow Central Underground Station",
              "routeType": "Unknown",
              "status": "Unknown",
              "type": "StopPoint",
              "uri": "/StopPoint/940GZZLUHWC"
             },
             {
              "$type": "Tfl.Api.Presentation.Entities.Identifier, Tfl.Api.Presentation.Entities",
              "id": "940GZZLUHWE",
              "name": "Hounslow East Underground Station",
              "routeType": "Unknown",
              "status": "Unknown",
              "type": "StopPoint",
              "uri": "/StopPoint/940GZZLUHWE"
             },
             {
              "$type": "Tfl.Api.Presentation.Entities.Identifier, Tfl.Api.Presentation.Entities",
              "id": "940GZZLUOSY",
              "name": "Osterley Underground Station",
              "routeType": "Unknown",
              "status": "Unknown",
              "type": "StopPoint",
              "uri": "/StopPoint/940GZZLUOSY"
             },
             {
              "$type": "Tfl.Api.Presentation.Entities.Identifier, Tfl.Api.Presentation.Entities",
              "id": "940GZZLUBOS",
              "name": "Boston Manor Underground Station",
              "routeType": "Unknown",
              "status": "Unknown",
              "type": "StopPoint",
              "uri": "/StopPoint/940GZZLUBOS"
             },
             {
              "$type": "Tfl.Api.Presentation.Entities.Identifier, Tfl.Api.Presentation.Entities",
              "id": "940GZZLUNFD",
              "name": "Northfields Underground Station",
              "routeType": "Unknown",
              "status": "Unknown",
              "type": "StopPoint",
              "uri": "/StopPoint/940GZZLUNFD"
             },
             {
              "$type": "Tfl.Api.Presentation.Entities.Identifier, Tfl.Api.Presentation.Entities",
              "id": "940GZZLUSEA",
              "name": "South Ealing Underground Station",
              "routeType": "Unknown",
              "status": "Unknown",
              "type": "StopPoint",
              "uri": "/StopPoint/940GZZLUSEA"
             },
             {
              "$type": "Tfl.Api.Presentation.Entities.Identifier, Tfl.Api.Presentation.Entities",
              "id": "940GZZLUACT",
              "name": "Acton Town Underground Station",
              "routeType": "Unknown",
              "status": "Unknown",
              "type": "StopPoint",
              "uri": "/StopPoint/940GZZLUACT"
             },
             {
              "$type": "Tfl.Api.Presentation.Entities.Identifier, Tfl.Api.Presentation.Entities",
              "id": "940GZZLUHSD",
              "name": "Hammersmith (Dist&Picc Line) Underground Station",
              "routeType": "Unknown",
              "status": "Unknown",
              "type": "StopPoint",
              "uri": "/StopPoint/940GZZLUHSD"
             }
            ]
           },
           "plannedWorks": [],
           "routeOptions": [
            {
             "$type": "Tfl.Api.Presentation.Entities.JourneyPlanner.RouteOption, Tfl.Api.Presentation.Entities",
             "directions": [
              "Cockfosters Underground Station",
              "Arnos Grove Underground Station"
             ],
             "lineIdentifier": {
              "$type": "Tfl.Api.Presentation.Entities.Identifier, Tfl.Api.Presentation.Entities",
              "crowding": {
               "$type": "Tfl.Api.Presentation.Entities.Crowding, Tfl.Api.Presentation.Entities"
              },
              "id": "piccadilly",
              "name": "Piccadilly",
              "routeType": "Unknown",
              "status": "Unknown",
              "type": "Line",
              "uri": "/Line/piccadilly"
             },
             "name": "Piccadilly"
            }
           ]
          },
          {
           "$type": "Tfl.Api.Presentation.Entities.JourneyPlanner.Leg, Tfl.Api.Presentation.Entities",
           "arrivalPoint": {
            "$type": "Tfl.Api.Presentation.Entities.StopPoint, Tfl.Api.Presentation.Entities",
            "additionalProperties": [],
            "commonName": "Tower Hill Underground Station",
            "icsCode": "1000238",
            "lat": 51.50965277573,
            "lon": -0.0770062307,
            "naptanId": "940GZZLUTWH",
            "placeType": "StopPoint",
            "platformName": ""
           },
           "arrivalTime": "2021-03-05T16:10:00",
           "departurePoint": {
            "$type": "Tfl.Api.Presentation.Entities.StopPoint, Tfl.Api.Presentation.Entities",
            "additionalProperties": [],
            "commonName": "Hammersmith (Dist&Picc Line) Underground Station",
            "icsCode": "1000096",
            "lat": 51.492256476719994,
            "lon": -0.22321846650000002,
            "naptanId": "940GZZLUHSD",
            "placeType": "StopPoint",
            "platformName": ""
           },
           "departureTime": "2021-03-05T15:39:00",
           "disruptions": [],
           "duration": 31,
           "hasFixedLocations": true,
           "instruction": {
            "$type": "Tfl.Api.Presentation.Entities.Instruction, Tfl.Api.Presentation.Entities",
            "detailed": "District line towards Upminster",
            "steps": [],
            "summary": "District line to Tower Hill"
           },
           "isDisrupted": false,
           "mode": {
            "$type": "Tfl.Api.Presentation.Entities.Identifier, Tfl.Api.Presentation.Entities",
            "id": "tube",
            "name": "tube",
            "routeType": "Unknown",
            "status": "Unknown",
            "type": "Mode"
           },
           "obstacles": [],
           "path": {
            "$type": "Tfl.Api.Presentation.Entities.JourneyPlanner.Path, Tfl.Api.Presentation.Entities",
            "elevation": [],
            "lineString": "[[51.49208760477, -0.22356801013],[51.4910645424, -0.22229967955],[51.49062992288, -0.22150991913],[51.49034895321, -0.22077181035],[51.49018503026, -0.22004355659],[51.49011471448, -0.21896595054],[51.4901460911, -0.21807164222],[51.49041793613, -0.21643331258],[51.49047428308, -0.21540837889],[51.49042292219, -0.21415752913],[51.49042292219, -0.21415752913],[51.49040282633, -0.21366820117],[51.49016057498, -0.21134412118],[51.49031239024, -0.20891819446],[51.49082224137, -0.20617272801],[51.49082224137, -0.20617272801],[51.49101029725, -0.20515997396],[51.4910095878, -0.20452618611],[51.49090274014, -0.20342120885],[51.49062705245, -0.2018619248],[51.49049372764, -0.20137740912],[51.49021616645, -0.20086976491],[51.48981978322, -0.20023716482],[51.48967724378, -0.19973862077],[51.48961337489, -0.19909293535],[51.4896001071, -0.19822919003],[51.4896975539, -0.19754833679],[51.48997363039, -0.19678841006],[51.49053241398, -0.19570040991],[51.49176926194, -0.19383235919],[51.49176926194, -0.19383235919],[51.49250094582, -0.19272720411],[51.4940688846, -0.19060515021],[51.49446241221, -0.18988367282],[51.49475396596, -0.18896453843],[51.49486799732, -0.18819649308],[51.49495269862, -0.18669489221],[51.49488363497, -0.18571801418],[51.4946523523, -0.18471877111],[51.49429434407, -0.18311980226],[51.49429434407, -0.18311980226],[51.49420795866, -0.18273399814],[51.49394701123, -0.18156309445],[51.49383207696, -0.18053044806],[51.49388296801, -0.17917427153],[51.49418157766, -0.17524395382],[51.49413444819, -0.17394930107],[51.49410537443, -0.17304276088],[51.49410537443, -0.17304276088],[51.49397701935, -0.16904318096],[51.49388955135, -0.16574773969],[51.4935821644, -0.16104938568],[51.4933850391, -0.15994807731],[51.49232944642, -0.15611967477],[51.49232944642, -0.15611967477],[51.49220260052, -0.1556596748],[51.49203419789, -0.15467250467],[51.49196864177, -0.15336426993],[51.4919550368, -0.15250050208],[51.49203596861, -0.15135920979],[51.49217467015, -0.15046046611],[51.4924521552, -0.14923917703],[51.49279354996, -0.1486491277],[51.49433974243, -0.14747721673],[51.49559299982, -0.14654761224],[51.49602447545, -0.14596825275],[51.4964152192, -0.14508799447],[51.49666102898, -0.1441415737],[51.49677372683, -0.14350601902],[51.49677372683, -0.14350601902],[51.49705728358, -0.14190681254],[51.4973873904, -0.13947300677],[51.49759187705, -0.13875873199],[51.49935006435, -0.13452329177],[51.49937923781, -0.13443898791],[51.49937923781, -0.13443898791],[51.49960798215, -0.13377796535],[51.49976612469, -0.13297907664],[51.49979592553, -0.13202694365],[51.49977810033, -0.12978005537],[51.49984405157, -0.12884084682],[51.50000376901, -0.12814272697],[51.50102555928, -0.12568028136],[51.50137149336, -0.12498395938],[51.50137149336, -0.12498395938],[51.50147859369, -0.12476837597],[51.50174266672, -0.12441173341],[51.502161354, -0.12416400578],[51.50480089264, -0.12333513804],[51.50680168156, -0.12248919741],[51.50704777138, -0.1223154693],[51.50704777138, -0.1223154693],[51.50714847102, -0.12224437937],[51.50741599446, -0.12210368848],[51.5085669555, -0.12097556868],[51.50911166347, -0.12017497591],[51.50952962959, -0.11932193936],[51.51001139472, -0.11796187151],[51.51045488464, -0.11645924112],[51.51083544893, -0.11495917859],[51.51087243493, -0.11475352518],[51.51087243493, -0.11475352518],[51.51109134004, -0.11353629815],[51.51122232911, -0.11217621086],[51.51116494362, -0.10638518564],[51.51121598831, -0.10564808458],[51.51143102308, -0.10448624196],[51.51165437619, -0.10306849119],[51.51165437619, -0.10306849119],[51.51184694383, -0.10184605465],[51.51186610327, -0.10080761779],[51.51162170646, -0.09682576886],[51.51164315965, -0.09593135482],[51.51170825371, -0.09474586467],[51.51170825371, -0.09474586467],[51.51178194535, -0.09340352761],[51.51173593074, -0.09278574798],[51.51162536775, -0.09206978502],[51.5114190761, -0.09099753782],[51.51137539369, -0.09052378318],[51.51137426445, -0.09049453],[51.51137426445, -0.09049453],[51.5113287325, -0.08931516623],[51.51126824381, -0.08891417494],[51.51074116443, -0.08616777694],[51.51074116443, -0.08616777694],[51.51072772627, -0.08609776127],[51.50944454652, -0.08021422998],[51.50931357635, -0.0793550812],[51.50932022697, -0.07866307777],[51.50938267981, -0.07808401299],[51.50948131137, -0.07751783453],[51.50965515438, -0.07700831491]]",
            "stopPoints": [
             {
              "$type": "Tfl.Api.Presentation.Entities.Identifier, Tfl.Api.Presentation.Entities",
              "id": "940GZZLUBSC",
              "name": "Barons Court Underground Station",
              "routeType": "Unknown",
              "status": "Unknown",
              "type": "StopPoint",
              "uri": "/StopPoint/940GZZLUBSC"
             },
             {
              "$type": "Tfl.Api.Presentation.Entities.Identifier, Tfl.Api.Presentation.Entities",
              "id": "940GZZLUWKN",
              "name": "West Kensington Underground Station",
              "routeType": "Unknown",
              "status": "Unknown",
              "type": "StopPoint",
              "uri": "/StopPoint/940GZZLUWKN"
             },
             {
              "$type": "Tfl.Api.Presentation.Entities.Identifier, Tfl.Api.Presentation.Entities",
              "id": "940GZZLUECT",
              "name": "Earl's Court Underground Station",
              "routeType": "Unknown",
              "status": "Unknown",
              "type": "StopPoint",
              "uri": "/StopPoint/940GZZLUECT"
             },
             {
              "$type": "Tfl.Api.Presentation.Entities.Identifier, Tfl.Api.Presentation.Entities",
              "id": "940GZZLUGTR",
              "name": "Gloucester Road Underground Station",
              "routeType": "Unknown",
              "status": "Unknown",
              "type": "StopPoint",
              "uri": "/StopPoint/940GZZLUGTR"
             },
             {
              "$type": "Tfl.Api.Presentation.Entities.Identifier, Tfl.Api.Presentation.Entities",
              "id": "940GZZLUSKS",
              "name": "South Kensington Underground Station",
              "routeType": "Unknown",
              "status": "Unknown",
              "type": "StopPoint",
              "uri": "/StopPoint/940GZZLUSKS"
             },
             {
              "$type": "Tfl.Api.Presentation.Entities.Identifier, Tfl.Api.Presentation.Entities",
              "id": "940GZZLUSSQ",
              "name": "Sloane Square Underground Station",
              "routeType": "Unknown",
              "status": "Unknown",
              "type": "StopPoint",
              "uri": "/StopPoint/940GZZLUSSQ"
             },
             {
              "$type": "Tfl.Api.Presentation.Entities.Identifier, Tfl.Api.Presentation.Entities",
              "id": "940GZZLUVIC",
              "name": "Victoria Underground Station",
              "routeType": "Unknown",
              "status": "Unknown",
              "type": "StopPoint",
              "uri": "/StopPoint/940GZZLUVIC"
             },
             {
              "$type": "Tfl.Api.Presentation.Entities.Identifier, Tfl.Api.Presentation.Entities",
              "id": "940GZZLUSJP",
              "name": "St. James's Park Underground Station",
              "routeType": "Unknown",
              "status": "Unknown",
              "type": "StopPoint",
              "uri": "/StopPoint/940GZZLUSJP"
             },
             {
              "$type": "Tfl.Api.Presentation.Entities.Identifier, Tfl.Api.Presentation.Entities",
              "id": "940GZZLUWSM",
              "name": "Westminster Underground Station",
              "routeType": "Unknown",
              "status": "Unknown",
              "type": "StopPoint",
              "uri": "/StopPoint/940GZZLUWSM"
             },
             {
              "$type": "Tfl.Api.Presentation.Entities.Identifier, Tfl.Api.Presentation.Entities",
              "id": "940GZZLUEMB",
              "name": "Embankment Underground Station",
              "routeType": "Unknown",
              "status": "Unknown",
              "type": "StopPoint",
              "uri": "/StopPoint/940GZZLUEMB"
             },
             {
              "$type": "Tfl.Api.Presentation.Entities.Identifier, Tfl.Api.Presentation.Entities",
              "id": "940GZZLUTMP",
              "name": "Temple Underground Station",
              "routeType": "Unknown",
              "status": "Unknown",
              "type": "StopPoint",
              "uri": "/StopPoint/940GZZLUTMP"
             },
             {
              "$type": "Tfl.Api.Presentation.Entities.Identifier, Tfl.Api.Presentation.Entities",
              "id": "940GZZLUBKF",
              "name": "Blackfriars Underground Station",
              "routeType": "Unknown",
              "status": "Unknown",
              "type": "StopPoint",
              "uri": "/StopPoint/940GZZLUBKF"
             },
             {
              "$type": "Tfl.Api.Presentation.Entities.Identifier, Tfl.Api.Presentation.Entities",
              "id": "940GZZLUMSH",
              "name": "Mansion House Underground Station",
              "routeType": "Unknown",
              "status": "Unknown",
              "type": "StopPoint",
              "uri": "/StopPoint/940GZZLUMSH"
             },
             {
              "$type": "Tfl.Api.Presentation.Entities.Identifier, Tfl.Api.Presentation.Entities",
              "id": "940GZZLUCST",
              "name": "Cannon Street Underground Station",
              "routeType": "Unknown",
              "status": "Unknown",
              "type": "StopPoint",
              "uri": "/StopPoint/940GZZLUCST"
             },
             {
              "$type": "Tfl.Api.Presentation.Entities.Identifier, Tfl.Api.Presentation.Entities",
              "id": "940GZZLUMMT",
              "name": "Monument Underground Station",
              "routeType": "Unknown",
              "status": "Unknown",
              "type": "StopPoint",
              "uri": "/StopPoint/940GZZLUMMT"
             },
             {
              "$type": "Tfl.Api.Presentation.Entities.Identifier, Tfl.Api.Presentation.Entities",
              "id": "940GZZLUTWH",
              "name": "Tower Hill Underground Station",
              "routeType": "Unknown",
              "status": "Unknown",
              "type": "StopPoint",
              "uri": "/StopPoint/940GZZLUTWH"
             }
            ]
           },
           "plannedWorks": [],
           "routeOptions": [
            {
             "$type": "Tfl.Api.Presentation.Entities.JourneyPlanner.RouteOption, Tfl.Api.Presentation.Entities",
             "directions": [
              "Upminster Underground Station"
             ],
             "lineIdentifier": {
              "$type": "Tfl.Api.Presentation.Entities.Identifier, Tfl.Api.Presentation.Entities",
              "crowding": {
               "$type": "Tfl.Api.Presentation.Entities.Crowding, Tfl.Api.Presentation.Entities"
              },
              "id": "district",
              "name": "District",
              "routeType": "Unknown",
              "status": "Unknown",
              "type": "Line",
              "uri": "/Line/district"
             },
             "name": "District"
            }
           ]
          },
          {
           "$type": "Tfl.Api.Presentation.Entities.JourneyPlanner.Leg, Tfl.Api.Presentation.Entities",
           "arrivalPoint": {
            "$type": "Tfl.Api.Presentation.Entities.Place, Tfl.Api.Presentation.Entities",
            "commonName": "1 Tower Bridge, Tower Hamlets",
            "lat": 51.50599630145,
            "lon": -0.07502752220999999,
            "placeType": "StopPoint"
           },
           "arrivalTime": "2021-03-05T16:22:00",
           "departurePoint": {
            "$type": "Tfl.Api.Presentation.Entities.StopPoint, Tfl.Api.Presentation.Entities",
            "additionalProperties": [],
            "commonName": "Tower Hill Underground Station",
            "icsCode": "1000238",
            "lat": 51.50965277573,
            "lon": -0.0770062307,
            "naptanId": "940GZZLUTWH",
            "placeType": "StopPoint",
            "platformName": ""
           },
           "departureTime": "2021-03-05T16:10:00",
           "disruptions": [],
           "distance": 608,
           "duration": 12,
           "hasFixedLocations": false,
           "instruction": {
            "$type": "Tfl.Api.Presentation.Entities.Instruction, Tfl.Api.Presentation.Entities",
            "detailed": "Walk to 1 Tower Bridge, Tower Hamlets",
            "steps": [
             {
              "$type": "Tfl.Api.Presentation.Entities.InstructionStep, Tfl.Api.Presentation.Entities",
              "cumulativeDistance": 123,
              "cumulativeTravelTime": 111,
              "description": " for 123 metres",
              "descriptionHeading": "Continue along ",
              "distance": 123,
              "latitude": 51.50988714247,
              "longitude": -0.07649197353000001,
              "pathAttribute": {
               "$type": "Tfl.Api.Presentation.Entities.PathAttribute, Tfl.Api.Presentation.Entities"
              },
              "skyDirection": 441,
              "skyDirectionDescription": "North",
              "streetName": "",
              "trackType": "None",
              "turnDirection": "STRAIGHT"
             },
             {
              "$type": "Tfl.Api.Presentation.Entities.InstructionStep, Tfl.Api.Presentation.Entities",
              "cumulativeDistance": 140,
              "cumulativeTravelTime": 126,
              "description": "on to Minories, continue for 17 metres",
              "descriptionHeading": "Take a slight right",
              "distance": 17,
              "latitude": 51.51004726435,
              "longitude": -0.07474148037,
              "pathAttribute": {
               "$type": "Tfl.Api.Presentation.Entities.PathAttribute, Tfl.Api.Presentation.Entities"
              },
              "skyDirection": 504,
              "skyDirectionDescription": "North",
              "streetName": "Minories",
              "trackType": "None",
              "turnDirection": "SLIGHT_RIGHT"
             },
             {
              "$type": "Tfl.Api.Presentation.Entities.InstructionStep, Tfl.Api.Presentation.Entities",
              "cumulativeDistance": 230,
              "cumulativeTravelTime": 207,
              "description": "on to Tower Hill, continue for 90 metres",
              "descriptionHeading": "Continue along ",
              "distance": 90,
              "latitude": 51.509919091069996,
              "longitude": -0.07460277288,
              "pathAttribute": {
               "$type": "Tfl.Api.Presentation.Entities.PathAttribute, Tfl.Api.Presentation.Entities"
              },
              "skyDirection": 500,
              "skyDirectionDescription": "North",
              "streetName": "Tower Hill",
              "trackType": "None",
              "turnDirection": "STRAIGHT"
             },
             {
              "$type": "Tfl.Api.Presentation.Entities.InstructionStep, Tfl.Api.Presentation.Entities",
              "cumulativeDistance": 546,
              "cumulativeTravelTime": 491,
              "description": "on to Tower Bridge Approach, continue for 316 metres",
              "descriptionHeading": "Take a slight right",
              "distance": 316,
              "latitude": 51.509285553039994,
              "longitude": -0.07380806143,
              "pathAttribute": {
               "$type": "Tfl.Api.Presentation.Entities.PathAttribute, Tfl.Api.Presentation.Entities"
              },
              "skyDirection": 190,
              "skyDirectionDescription": "North",
              "streetName": "Tower Bridge Approach",
              "trackType": "None",
              "turnDirection": "SLIGHT_RIGHT"
             },
             {
              "$type": "Tfl.Api.Presentation.Entities.InstructionStep, Tfl.Api.Presentation.Entities",
              "cumulativeDistance": 608,
              "cumulativeTravelTime": 546,
              "description": "on to Tower Bridge, continue for 62 metres",
              "descriptionHeading": "Continue along ",
              "distance": 62,
              "latitude": 51.50651207448,
              "longitude": -0.07467435327000001,
              "pathAttribute": {
               "$type": "Tfl.Api.Presentation.Entities.PathAttribute, Tfl.Api.Presentation.Entities"
              },
              "skyDirection": 202,
              "skyDirectionDescription": "North",
              "streetName": "Tower Bridge",
              "trackType": "None",
              "turnDirection": "STRAIGHT"
             }
            ],
            "summary": "Walk to 1 Tower Bridge, Tower Hamlets"
           },
           "isDisrupted": false,
           "mode": {
            "$type": "Tfl.Api.Presentation.Entities.Identifier, Tfl.Api.Presentation.Entities",
            "id": "walking",
            "name": "walking",
            "routeType": "Unknown",
            "status": "Unknown",
            "type": "Mode"
           },
           "obstacles": [
            {
             "$type": "Tfl.Api.Presentation.Entities.JourneyPlanner.Obstacle, Tfl.Api.Presentation.Entities",
             "incline": "UP",
             "position": "BEFORE",
             "stopId": 1000238,
             "type": "STAIRS"
            },
            {
             "$type": "Tfl.Api.Presentation.Entities.JourneyPlanner.Obstacle, Tfl.Api.Presentation.Entities",
             "incline": "UP",
             "position": "BEFORE",
             "stopId": 1000238,
             "type": "STAIRS"
            }
           ],
           "path": {
            "$type": "Tfl.Api.Presentation.Entities.JourneyPlanner.Path, Tfl.Api.Presentation.Entities",
            "elevation": [],
            "lineString": "[[51.50965277573, -0.0770062307],[51.50983534983, -0.07662385474],[51.50983298801, -0.07647984344],[51.50988714247, -0.07649197353],[51.50994604037, -0.07569688147],[51.50997087283, -0.07556613498],[51.51004726435, -0.07474148037],[51.50991909107, -0.07460277288],[51.50968024384, -0.07429580021],[51.5094690644, -0.07403089675],[51.50928555304, -0.07380806143],[51.50908879906, -0.07387400345],[51.50877593176, -0.07398807411],[51.50857823169, -0.0739964117],[51.50844390916, -0.07403089771],[51.50782550511, -0.07415784955],[51.50715365551, -0.07431587169],[51.50694815118, -0.07439658728],[51.50688571945, -0.07442803979],[51.50651207448, -0.07467435327],[51.50599630145, -0.07502752221]]",
            "stopPoints": []
           },
           "plannedWorks": [],
           "routeOptions": [
            {
             "$type": "Tfl.Api.Presentation.Entities.JourneyPlanner.RouteOption, Tfl.Api.Presentation.Entities",
             "directions": [
              ""
             ],
             "name": ""
            }
           ]
          }
         ],
         "startDateTime": "2021-03-05T15:00:00"
        },
        {
         "$type": "Tfl.Api.Presentation.Entities.JourneyPlanner.Journey, Tfl.Api.Presentation.Entities",
         "arrivalDateTime": "2021-03-05T16:26:00",
         "duration": 81,
         "legs": [
          {
           "$type": "Tfl.Api.Presentation.Entities.JourneyPlanner.Leg, Tfl.Api.Presentation.Entities",
           "arrivalPoint": {
            "$type": "Tfl.Api.Presentation.Entities.StopPoint, Tfl.Api.Presentation.Entities",
            "additionalProperties": [],
            "commonName": "Heathrow Terminals 2 & 3 Underground Station",
            "icsCode": "1000105",
            "lat": 51.471637629,
            "lon": -0.45295694328,
            "naptanId": "940GZZLUHRC",
            "placeType": "StopPoint",
            "platformName": ""
           },
           "arrivalTime": "2021-03-05T15:13:00",
           "departurePoint": {
            "$type": "Tfl.Api.Presentation.Entities.StopPoint, Tfl.Api.Presentation.Entities",
            "additionalProperties": [],
            "commonName": "Heathrow Airport Terminals 1-3",
            "icsCode": "99999997",
            "lat": 51.469399547399995,
            "lon": -0.45098816812,
            "placeType": "StopPoint",
            "platformName": ""
           },
           "departureTime": "2021-03-05T15:05:00",
           "disruptions": [],
           "distance": 215,
           "duration": 8,
           "hasFixedLocations": true,
           "instruction": {
            "$type": "Tfl.Api.Presentation.Entities.Instruction, Tfl.Api.Presentation.Entities",
            "detailed": "Walk to Heathrow Terminals 2 & 3 Underground Station",
            "steps": [
             {
              "$type": "Tfl.Api.Presentation.Entities.InstructionStep, Tfl.Api.Presentation.Entities",
              "cumulativeDistance": 215,
              "cumulativeTravelTime": 193,
              "description": " for 215 metres",
              "descriptionHeading": "Continue along ",
              "distance": 215,
              "latitude": 51.469399547399995,
              "longitude": -0.45098816812,
              "pathAttribute": {
               "$type": "Tfl.Api.Presentation.Entities.PathAttribute, Tfl.Api.Presentation.Entities"
              },
              "skyDirection": 479,
              "skyDirectionDescription": "North",
              "streetName": "",
              "trackType": "None",
              "turnDirection": "STRAIGHT"
             }
            ],
            "summary": "Walk to Heathrow Terminals 2 & 3 Underground Station"
           },
           "isDisrupted": false,
           "mode": {
            "$type": "Tfl.Api.Presentation.Entities.Identifier, Tfl.Api.Presentation.Entities",
            "id": "walking",
            "name": "walking",
            "routeType": "Unknown",
            "status": "Unknown",
            "type": "Mode"
           },
           "obstacles": [
            {
             "$type": "Tfl.Api.Presentation.Entities.JourneyPlanner.Obstacle, Tfl.Api.Presentation.Entities",
             "incline": "DOWN",
             "position": "IDEST",
             "stopId": 1000105,
             "type": "ESCALATOR"
            },
            {
             "$type": "Tfl.Api.Presentation.Entities.JourneyPlanner.Obstacle, Tfl.Api.Presentation.Entities",
             "incline": "DOWN",
             "position": "IDEST",
             "stopId": 1000105,
             "type": "ESCALATOR"
            }
           ],
           "path": {
            "$type": "Tfl.Api.Presentation.Entities.JourneyPlanner.Path, Tfl.Api.Presentation.Entities",
            "elevation": [],
            "lineString": "[[51.4693995474, -0.45098816812],[51.47112631229, -0.45236951224],[51.47115175739, -0.45225346537],[51.4714450785, -0.45267548951],[51.471637629, -0.45295694328],[51.47133397351, -0.45296249441]]",
            "stopPoints": []
           },
           "plannedWorks": [],
           "routeOptions": [
            {
             "$type": "Tfl.Api.Presentation.Entities.JourneyPlanner.RouteOption, Tfl.Api.Presentation.Entities",
             "directions": [
              ""
             ],
             "name": ""
            }
           ]
          },
          {
           "$type": "Tfl.Api.Presentation.Entities.JourneyPlanner.Leg, Tfl.Api.Presentation.Entities",
           "arrivalPoint": {
            "$type": "Tfl.Api.Presentation.Entities.StopPoint, Tfl.Api.Presentation.Entities",
            "additionalProperties": [],
            "commonName": "Hammersmith (Dist&Picc Line) Underground Station",
            "icsCode": "1000096",
            "lat": 51.4922132859,
            "lon": -0.22333538775,
            "naptanId": "940GZZLUHSD",
            "placeType": "StopPoint",
            "platformName": ""
           },
           "arrivalTime": "2021-03-05T15:43:00",
           "departurePoint": {
            "$type": "Tfl.Api.Presentation.Entities.StopPoint, Tfl.Api.Presentation.Entities",
            "additionalProperties": [],
            "commonName": "Heathrow Terminals 2 & 3 Underground Station",
            "icsCode": "1000105",
            "lat": 51.471637629,
            "lon": -0.45295694328,
            "naptanId": "940GZZLUHRC",
            "placeType": "StopPoint",
            "platformName": ""
           },
           "departureTime": "2021-03-05T15:13:00",
           "disruptions": [],
           "duration": 30,
           "hasFixedLocations": true,
           "instruction": {
            "$type": "Tfl.Api.Presentation.Entities.Instruction, Tfl.Api.Presentation.Entities",
            "detailed": "Piccadilly line towards Arnos Grove, or Cockfosters",
            "steps": [],
            "summary": "Piccadilly line to Hammersmith (Dist&Picc Line)"
           },
           "isDisrupted": false,
           "mode": {
            "$type": "Tfl.Api.Presentation.Entities.Identifier, Tfl.Api.Presentation.Entities",
            "id": "tube",
            "name": "tube",
            "routeType": "Unknown",
            "status": "Unknown",
            "type": "Mode"
           },
           "obstacles": [
            {
             "$type": "Tfl.Api.Presentation.Entities.JourneyPlanner.Obstacle, Tfl.Api.Presentation.Entities",
             "incline": "LEVEL",
             "position": "AFTER",
             "stopId": 1000096,
             "type": "WALKWAY"
            }
           ],
           "path": {
            "$type": "Tfl.Api.Presentation.Entities.JourneyPlanner.Path, Tfl.Api.Presentation.Entities",
            "elevation": [],
            "lineString": "[[51.47133414008, -0.45297143671],[51.47129625217, -0.45093833188],[51.47119705219, -0.45023617707],[51.46562304245, -0.42736179058],[51.46551394189, -0.42660252651],[51.46550583066, -0.42599815248],[51.46559697209, -0.42541915544],[51.46638638497, -0.42360158321],[51.46638638497, -0.42360158321],[51.46680937918, -0.42262761335],[51.46718153783, -0.42154940001],[51.46922027601, -0.41469773922],[51.46967581535, -0.41314138278],[51.47188053313, -0.40662874577],[51.47266595611, -0.40421118384],[51.4731883564, -0.40229229392],[51.47494220963, -0.39704719586],[51.47507814629, -0.39646644862],[51.47513338514, -0.39590292812],[51.47512038717, -0.39495301203],[51.47498856672, -0.39386327385],[51.47478680503, -0.39291999464],[51.47423550195, -0.39075067401],[51.47358430283, -0.38851292937],[51.47345075673, -0.38795607167],[51.47337113566, -0.38739731574],[51.47335965335, -0.38656257661],[51.4733866923, -0.3859136657],[51.47341926289, -0.385734712],[51.47341926289, -0.385734712],[51.47387990381, -0.38320360757],[51.47400981566, -0.38219106752],[51.47403106901, -0.38112477083],[51.47390051231, -0.38013584652],[51.47368006827, -0.37915011351],[51.47336774641, -0.3780236576],[51.47223737126, -0.37496802597],[51.47157888271, -0.37287484377],[51.47133340786, -0.37138614109],[51.47123772117, -0.37032406734],[51.47125106032, -0.36869657304],[51.47133422543, -0.36620170922],[51.47133422543, -0.36620170922],[51.4713462021, -0.36584229009],[51.471437203, -0.36462956768],[51.47170628789, -0.36264734459],[51.47193784297, -0.36119919215],[51.47212169283, -0.36019909501],[51.47247924827, -0.35876079367],[51.4728923255, -0.35743566677],[51.47309198812, -0.35692453078],[51.47355472319, -0.35612620222],[51.47355472319, -0.35612620222],[51.47425972115, -0.35490986263],[51.47481464229, -0.35408352575],[51.47528513595, -0.35364900059],[51.47574088603, -0.35344539471],[51.47624258518, -0.35331212994],[51.47762670379, -0.35326228544],[51.47850114607, -0.35341800242],[51.47920219297, -0.35339275658],[51.4798650653, -0.35321047201],[51.48028385213, -0.35293616543],[51.48149076439, -0.35181184571],[51.48149076439, -0.35181184571],[51.48165077802, -0.35166277698],[51.48209207177, -0.35107079292],[51.48236279739, -0.35049935335],[51.48257878341, -0.34987227464],[51.48300527151, -0.34822943966],[51.48345936458, -0.34599508165],[51.48368842655, -0.34502183634],[51.48392951692, -0.34426418194],[51.48425966623, -0.34344568222],[51.48476834345, -0.34253428178],[51.49278966746, -0.32986928129],[51.49298247444, -0.32951650763],[51.49354004044, -0.32825725451],[51.4938018695, -0.3277002646],[51.49405676184, -0.32728757871],[51.49505998532, -0.32575263528],[51.49573468815, -0.32481625777],[51.49573468815, -0.32481625777],[51.49669122554, -0.3234886738],[51.49709621533, -0.32288314316],[51.49733208505, -0.32239906485],[51.49831750614, -0.31962555272],[51.49858208852, -0.31863613968],[51.49971676663, -0.31353113831],[51.49971676663, -0.31353113831],[51.50036424411, -0.31061752396],[51.50108944725, -0.30739114955],[51.50108944725, -0.30739114955],[51.50118391718, -0.30697082307],[51.50132127291, -0.30651908558],[51.50231360067, -0.30424901532],[51.502829938, -0.30264491839],[51.50303125403, -0.30164325011],[51.50329277414, -0.29983245096],[51.50433859847, -0.29320863743],[51.50460043866, -0.29204613102],[51.50562103371, -0.28865058866],[51.50578964306, -0.28788057234],[51.50587715008, -0.28709918206],[51.50585659227, -0.28630743346],[51.50570999464, -0.28550600685],[51.50538968178, -0.28450937827],[51.50364425624, -0.28137618171],[51.50277167788, -0.27986003801],[51.50277167788, -0.27986003801],[51.50276765264, -0.27985304418],[51.50209223387, -0.27917247055],[51.50052843591, -0.2780067116],[51.49987182754, -0.27738311875],[51.49874479649, -0.27595607466],[51.49570540839, -0.27107177814],[51.4952880256, -0.27020879586],[51.49492158603, -0.26914221544],[51.49461741054, -0.26803007429],[51.49447542257, -0.26694060845],[51.49450009304, -0.2661761603],[51.49460760363, -0.26493317096],[51.49470011041, -0.26389242917],[51.49510405624, -0.26020352799],[51.49529069168, -0.25642200817],[51.49529539136, -0.25552864659],[51.49526890491, -0.25462221712],[51.49526890491, -0.25462221712],[51.49490995737, -0.24236181984],[51.49482848299, -0.24112603403],[51.49463612357, -0.23969283971],[51.49416765347, -0.23664244205],[51.49413246427, -0.23609637831],[51.4938625608, -0.22952336733],[51.49389162508, -0.22847062012],[51.49387241422, -0.22779429393],[51.4937344074, -0.22699292561],[51.49354399647, -0.22629443585],[51.49330755644, -0.22552571115],[51.49310068802, -0.22492871185],[51.4928333043, -0.22449252917],[51.4920959202, -0.2235783194]]",
            "stopPoints": [
             {
              "$type": "Tfl.Api.Presentation.Entities.Identifier, Tfl.Api.Presentation.Entities",
              "id": "940GZZLUHNX",
              "name": "Hatton Cross Underground Station",
              "routeType": "Unknown",
              "status": "Unknown",
              "type": "StopPoint",
              "uri": "/StopPoint/940GZZLUHNX"
             },
             {
              "$type": "Tfl.Api.Presentation.Entities.Identifier, Tfl.Api.Presentation.Entities",
              "id": "940GZZLUHWT",
              "name": "Hounslow West Underground Station",
              "routeType": "Unknown",
              "status": "Unknown",
              "type": "StopPoint",
              "uri": "/StopPoint/940GZZLUHWT"
             },
             {
              "$type": "Tfl.Api.Presentation.Entities.Identifier, Tfl.Api.Presentation.Entities",
              "id": "940GZZLUHWC",
              "name": "Hounslow Central Underground Station",
              "routeType": "Unknown",
              "status": "Unknown",
              "type": "StopPoint",
              "uri": "/StopPoint/940GZZLUHWC"
             },
             {
              "$type": "Tfl.Api.Presentation.Entities.Identifier, Tfl.Api.Presentation.Entities",
              "id": "940GZZLUHWE",
              "name": "Hounslow East Underground Station",
              "routeType": "Unknown",
              "status": "Unknown",
              "type": "StopPoint",
              "uri": "/StopPoint/940GZZLUHWE"
             },
             {
              "$type": "Tfl.Api.Presentation.Entities.Identifier, Tfl.Api.Presentation.Entities",
              "id": "940GZZLUOSY",
              "name": "Osterley Underground Station",
              "routeType": "Unknown",
              "status": "Unknown",
              "type": "StopPoint",
              "uri": "/StopPoint/940GZZLUOSY"
             },
             {
              "$type": "Tfl.Api.Presentation.Entities.Identifier, Tfl.Api.Presentation.Entities",
              "id": "940GZZLUBOS",
              "name": "Boston Manor Underground Station",
              "routeType": "Unknown",
              "status": "Unknown",
              "type": "StopPoint",
              "uri": "/StopPoint/940GZZLUBOS"
             },
             {
              "$type": "Tfl.Api.Presentation.Entities.Identifier, Tfl.Api.Presentation.Entities",
              "id": "940GZZLUNFD",
              "name": "Northfields Underground Station",
              "routeType": "Unknown",
              "status": "Unknown",
              "type": "StopPoint",
              "uri": "/StopPoint/940GZZLUNFD"
             },
             {
              "$type": "Tfl.Api.Presentation.Entities.Identifier, Tfl.Api.Presentation.Entities",
              "id": "940GZZLUSEA",
              "name": "South Ealing Underground Station",
              "routeType": "Unknown",
              "status": "Unknown",
              "type": "StopPoint",
              "uri": "/StopPoint/940GZZLUSEA"
             },
             {
              "$type": "Tfl.Api.Presentation.Entities.Identifier, Tfl.Api.Presentation.Entities",
              "id": "940GZZLUACT",
              "name": "Acton Town Underground Station",
              "routeType": "Unknown",
              "status": "Unknown",
              "type": "StopPoint",
              "uri": "/StopPoint/940GZZLUACT"
             },
             {
              "$type": "Tfl.Api.Presentation.Entities.Identifier, Tfl.Api.Presentation.Entities",
              "id": "940GZZLUHSD",
              "name": "Hammersmith (Dist&Picc Line) Underground Station",
              "routeType": "Unknown",
              "status": "Unknown",
              "type": "StopPoint",
              "uri": "/StopPoint/940GZZLUHSD"
             }
            ]
           },
           "plannedWorks": [],
           "routeOptions": [
            {
             "$type": "Tfl.Api.Presentation.Entities.JourneyPlanner.RouteOption, Tfl.Api.Presentation.Entities",
             "directions": [
              "Arnos Grove Underground Station",
              "Cockfosters Underground Station"
             ],
             "lineIdentifier": {
              "$type": "Tfl.Api.Presentation.Entities.Identifier, Tfl.Api.Presentation.Entities",
              "crowding": {
               "$type": "Tfl.Api.Presentation.Entities.Crowding, Tfl.Api.Presentation.Entities"
              },
              "id": "piccadilly",
              "name": "Piccadilly",
              "routeType": "Unknown",
              "status": "Unknown",
              "type": "Line",
              "uri": "/Line/piccadilly"
             },
             "name": "Piccadilly"
            }
           ]
          },
          {
           "$type": "Tfl.Api.Presentation.Entities.JourneyPlanner.Leg, Tfl.Api.Presentation.Entities",
           "arrivalPoint": {
            "$type": "Tfl.Api.Presentation.Entities.StopPoint, Tfl.Api.Presentation.Entities",
            "additionalProperties": [],
            "commonName": "Tower Hill Underground Station",
            "icsCode": "1000238",
            "lat": 51.50965277573,
            "lon": -0.0770062307,
            "naptanId": "940GZZLUTWH",
            "placeType": "StopPoint",
            "platformName": ""
           },
           "arrivalTime": "2021-03-05T16:14:00",
           "departurePoint": {
            "$type": "Tfl.Api.Presentation.Entities.StopPoint, Tfl.Api.Presentation.Entities",
            "additionalProperties": [],
            "commonName": "Hammersmith (Dist&Picc Line) Underground Station",
            "icsCode": "1000096",
            "lat": 51.492256476719994,
            "lon": -0.22321846650000002,
            "naptanId": "940GZZLUHSD",
            "placeType": "StopPoint",
            "platformName": ""
           },
           "departureTime": "2021-03-05T15:44:00",
           "disruptions": [],
           "duration": 30,
           "hasFixedLocations": true,
           "instruction": {
            "$type": "Tfl.Api.Presentation.Entities.Instruction, Tfl.Api.Presentation.Entities",
            "detailed": "District line towards Upminster, or Dagenham East",
            "steps": [],
            "summary": "District line to Tower Hill"
           },
           "isDisrupted": false,
           "mode": {
            "$type": "Tfl.Api.Presentation.Entities.Identifier, Tfl.Api.Presentation.Entities",
            "id": "tube",
            "name": "tube",
            "routeType": "Unknown",
            "status": "Unknown",
            "type": "Mode"
           },
           "obstacles": [],
           "path": {
            "$type": "Tfl.Api.Presentation.Entities.JourneyPlanner.Path, Tfl.Api.Presentation.Entities",
            "elevation": [],
            "lineString": "[[51.49208760477, -0.22356801013],[51.4910645424, -0.22229967955],[51.49062992288, -0.22150991913],[51.49034895321, -0.22077181035],[51.49018503026, -0.22004355659],[51.49011471448, -0.21896595054],[51.4901460911, -0.21807164222],[51.49041793613, -0.21643331258],[51.49047428308, -0.21540837889],[51.49042292219, -0.21415752913],[51.49042292219, -0.21415752913],[51.49040282633, -0.21366820117],[51.49016057498, -0.21134412118],[51.49031239024, -0.20891819446],[51.49082224137, -0.20617272801],[51.49082224137, -0.20617272801],[51.49101029725, -0.20515997396],[51.4910095878, -0.20452618611],[51.49090274014, -0.20342120885],[51.49062705245, -0.2018619248],[51.49049372764, -0.20137740912],[51.49021616645, -0.20086976491],[51.48981978322, -0.20023716482],[51.48967724378, -0.19973862077],[51.48961337489, -0.19909293535],[51.4896001071, -0.19822919003],[51.4896975539, -0.19754833679],[51.48997363039, -0.19678841006],[51.49053241398, -0.19570040991],[51.49176926194, -0.19383235919],[51.49176926194, -0.19383235919],[51.49250094582, -0.19272720411],[51.4940688846, -0.19060515021],[51.49446241221, -0.18988367282],[51.49475396596, -0.18896453843],[51.49486799732, -0.18819649308],[51.49495269862, -0.18669489221],[51.49488363497, -0.18571801418],[51.4946523523, -0.18471877111],[51.49429434407, -0.18311980226],[51.49429434407, -0.18311980226],[51.49420795866, -0.18273399814],[51.49394701123, -0.18156309445],[51.49383207696, -0.18053044806],[51.49388296801, -0.17917427153],[51.49418157766, -0.17524395382],[51.49413444819, -0.17394930107],[51.49410537443, -0.17304276088],[51.49410537443, -0.17304276088],[51.49397701935, -0.16904318096],[51.49388955135, -0.16574773969],[51.4935821644, -0.16104938568],[51.4933850391, -0.15994807731],[51.49232944642, -0.15611967477],[51.49232944642, -0.15611967477],[51.49220260052, -0.1556596748],[51.49203419789, -0.15467250467],[51.49196864177, -0.15336426993],[51.4919550368, -0.15250050208],[51.49203596861, -0.15135920979],[51.49217467015, -0.15046046611],[51.4924521552, -0.14923917703],[51.49279354996, -0.1486491277],[51.49433974243, -0.14747721673],[51.49559299982, -0.14654761224],[51.49602447545, -0.14596825275],[51.4964152192, -0.14508799447],[51.49666102898, -0.1441415737],[51.49677372683, -0.14350601902],[51.49677372683, -0.14350601902],[51.49705728358, -0.14190681254],[51.4973873904, -0.13947300677],[51.49759187705, -0.13875873199],[51.49935006435, -0.13452329177],[51.49937923781, -0.13443898791],[51.49937923781, -0.13443898791],[51.49960798215, -0.13377796535],[51.49976612469, -0.13297907664],[51.49979592553, -0.13202694365],[51.49977810033, -0.12978005537],[51.49984405157, -0.12884084682],[51.50000376901, -0.12814272697],[51.50102555928, -0.12568028136],[51.50137149336, -0.12498395938],[51.50137149336, -0.12498395938],[51.50147859369, -0.12476837597],[51.50174266672, -0.12441173341],[51.502161354, -0.12416400578],[51.50480089264, -0.12333513804],[51.50680168156, -0.12248919741],[51.50704777138, -0.1223154693],[51.50704777138, -0.1223154693],[51.50714847102, -0.12224437937],[51.50741599446, -0.12210368848],[51.5085669555, -0.12097556868],[51.50911166347, -0.12017497591],[51.50952962959, -0.11932193936],[51.51001139472, -0.11796187151],[51.51045488464, -0.11645924112],[51.51083544893, -0.11495917859],[51.51087243493, -0.11475352518],[51.51087243493, -0.11475352518],[51.51109134004, -0.11353629815],[51.51122232911, -0.11217621086],[51.51116494362, -0.10638518564],[51.51121598831, -0.10564808458],[51.51143102308, -0.10448624196],[51.51165437619, -0.10306849119],[51.51165437619, -0.10306849119],[51.51184694383, -0.10184605465],[51.51186610327, -0.10080761779],[51.51162170646, -0.09682576886],[51.51164315965, -0.09593135482],[51.51170825371, -0.09474586467],[51.51170825371, -0.09474586467],[51.51178194535, -0.09340352761],[51.51173593074, -0.09278574798],[51.51162536775, -0.09206978502],[51.5114190761, -0.09099753782],[51.51137539369, -0.09052378318],[51.51137426445, -0.09049453],[51.51137426445, -0.09049453],[51.5113287325, -0.08931516623],[51.51126824381, -0.08891417494],[51.51074116443, -0.08616777694],[51.51074116443, -0.08616777694],[51.51072772627, -0.08609776127],[51.50944454652, -0.08021422998],[51.50931357635, -0.0793550812],[51.50932022697, -0.07866307777],[51.50938267981, -0.07808401299],[51.50948131137, -0.07751783453],[51.50965515438, -0.07700831491]]",
            "stopPoints": [
             {
              "$type": "Tfl.Api.Presentation.Entities.Identifier, Tfl.Api.Presentation.Entities",
              "id": "940GZZLUBSC",
              "name": "Barons Court Underground Station",
              "routeType": "Unknown",
              "status": "Unknown",
              "type": "StopPoint",
              "uri": "/StopPoint/940GZZLUBSC"
             },
             {
              "$type": "Tfl.Api.Presentation.Entities.Identifier, Tfl.Api.Presentation.Entities",
              "id": "940GZZLUWKN",
              "name": "West Kensington Underground Station",
              "routeType": "Unknown",
              "status": "Unknown",
              "type": "StopPoint",
              "uri": "/StopPoint/940GZZLUWKN"
             },
             {
              "$type": "Tfl.Api.Presentation.Entities.Identifier, Tfl.Api.Presentation.Entities",
              "id": "940GZZLUECT",
              "name": "Earl's Court Underground Station",
              "routeType": "Unknown",
              "status": "Unknown",
              "type": "StopPoint",
              "uri": "/StopPoint/940GZZLUECT"
             },
             {
              "$type": "Tfl.Api.Presentation.Entities.Identifier, Tfl.Api.Presentation.Entities",
              "id": "940GZZLUGTR",
              "name": "Gloucester Road Underground Station",
              "routeType": "Unknown",
              "status": "Unknown",
              "type": "StopPoint",
              "uri": "/StopPoint/940GZZLUGTR"
             },
             {
              "$type": "Tfl.Api.Presentation.Entities.Identifier, Tfl.Api.Presentation.Entities",
              "id": "940GZZLUSKS",
              "name": "South Kensington Underground Station",
              "routeType": "Unknown",
              "status": "Unknown",
              "type": "StopPoint",
              "uri": "/StopPoint/940GZZLUSKS"
             },
             {
              "$type": "Tfl.Api.Presentation.Entities.Identifier, Tfl.Api.Presentation.Entities",
              "id": "940GZZLUSSQ",
              "name": "Sloane Square Underground Station",
              "routeType": "Unknown",
              "status": "Unknown",
              "type": "StopPoint",
              "uri": "/StopPoint/940GZZLUSSQ"
             },
             {
              "$type": "Tfl.Api.Presentation.Entities.Identifier, Tfl.Api.Presentation.Entities",
              "id": "940GZZLUVIC",
              "name": "Victoria Underground Station",
              "routeType": "Unknown",
              "status": "Unknown",
              "type": "StopPoint",
              "uri": "/StopPoint/940GZZLUVIC"
             },
             {
              "$type": "Tfl.Api.Presentation.Entities.Identifier, Tfl.Api.Presentation.Entities",
              "id": "940GZZLUSJP",
              "name": "St. James's Park Underground Station",
              "routeType": "Unknown",
              "status": "Unknown",
              "type": "StopPoint",
              "uri": "/StopPoint/940GZZLUSJP"
             },
             {
              "$type": "Tfl.Api.Presentation.Entities.Identifier, Tfl.Api.Presentation.Entities",
              "id": "940GZZLUWSM",
              "name": "Westminster Underground Station",
              "routeType": "Unknown",
              "status": "Unknown",
              "type": "StopPoint",
              "uri": "/StopPoint/940GZZLUWSM"
             },
             {
              "$type": "Tfl.Api.Presentation.Entities.Identifier, Tfl.Api.Presentation.Entities",
              "id": "940GZZLUEMB",
              "name": "Embankment Underground Station",
              "routeType": "Unknown",
              "status": "Unknown",
              "type": "StopPoint",
              "uri": "/StopPoint/940GZZLUEMB"
             },
             {
              "$type": "Tfl.Api.Presentation.Entities.Identifier, Tfl.Api.Presentation.Entities",
              "id": "940GZZLUTMP",
              "name": "Temple Underground Station",
              "routeType": "Unknown",
              "status": "Unknown",
              "type": "StopPoint",
              "uri": "/StopPoint/940GZZLUTMP"
             },
             {
              "$type": "Tfl.Api.Presentation.Entities.Identifier, Tfl.Api.Presentation.Entities",
              "id": "940GZZLUBKF",
              "name": "Blackfriars Underground Station",
              "routeType": "Unknown",
              "status": "Unknown",
              "type": "StopPoint",
              "uri": "/StopPoint/940GZZLUBKF"
             },
             {
              "$type": "Tfl.Api.Presentation.Entities.Identifier, Tfl.Api.Presentation.Entities",
              "id": "940GZZLUMSH",
              "name": "Mansion House Underground Station",
              "routeType": "Unknown",
              "status": "Unknown",
              "type": "StopPoint",
              "uri": "/StopPoint/940GZZLUMSH"
             },
             {
              "$type": "Tfl.Api.Presentation.Entities.Identifier, Tfl.Api.Presentation.Entities",
              "id": "940GZZLUCST",
              "name": "Cannon Street Underground Station",
              "routeType": "Unknown",
              "status": "Unknown",
              "type": "StopPoint",
              "uri": "/StopPoint/940GZZLUCST"
             },
             {
              "$type": "Tfl.Api.Presentation.Entities.Identifier, Tfl.Api.Presentation.Entities",
              "id": "940GZZLUMMT",
              "name": "Monument Underground Station",
              "routeType": "Unknown",
              "status": "Unknown",
              "type": "StopPoint",
              "uri": "/StopPoint/940GZZLUMMT"
             },
             {
              "$type": "Tfl.Api.Presentation.Entities.Identifier, Tfl.Api.Presentation.Entities",
              "id": "940GZZLUTWH",
              "name": "Tower Hill Underground Station",
              "routeType": "Unknown",
              "status": "Unknown",
              "type": "StopPoint",
              "uri": "/StopPoint/940GZZLUTWH"
             }
            ]
           },
           "plannedWorks": [],
           "routeOptions": [
            {
             "$type": "Tfl.Api.Presentation.Entities.JourneyPlanner.RouteOption, Tfl.Api.Presentation.Entities",
             "directions": [
              "Upminster Underground Station",
              "Dagenham East Underground Station"
             ],
             "lineIdentifier": {
              "$type": "Tfl.Api.Presentation.Entities.Identifier, Tfl.Api.Presentation.Entities",
              "crowding": {
               "$type": "Tfl.Api.Presentation.Entities.Crowding, Tfl.Api.Presentation.Entities"
              },
              "id": "district",
              "name": "District",
              "routeType": "Unknown",
              "status": "Unknown",
              "type": "Line",
              "uri": "/Line/district"
             },
             "name": "District"
            }
           ]
          },
          {
           "$type": "Tfl.Api.Presentation.Entities.JourneyPlanner.Leg, Tfl.Api.Presentation.Entities",
           "arrivalPoint": {
            "$type": "Tfl.Api.Presentation.Entities.Place, Tfl.Api.Presentation.Entities",
            "commonName": "1 Tower Bridge, Tower Hamlets",
            "lat": 51.50599630145,
            "lon": -0.07502752220999999,
            "placeType": "StopPoint"
           },
           "arrivalTime": "2021-03-05T16:26:00",
           "departurePoint": {
            "$type": "Tfl.Api.Presentation.Entities.StopPoint, Tfl.Api.Presentation.Entities",
            "additionalProperties": [],
            "commonName": "Tower Hill Underground Station",
            "icsCode": "1000238",
            "lat": 51.50965277573,
            "lon": -0.0770062307,
            "naptanId": "940GZZLUTWH",
            "placeType": "StopPoint",
            "platformName": ""
           },
           "departureTime": "2021-03-05T16:14:00",
           "disruptions": [],
           "distance": 608,
           "duration": 12,
           "hasFixedLocations": false,
           "instruction": {
            "$type": "Tfl.Api.Presentation.Entities.Instruction, Tfl.Api.Presentation.Entities",
            "detailed": "Walk to 1 Tower Bridge, Tower Hamlets",
            "steps": [
             {
              "$type": "Tfl.Api.Presentation.Entities.InstructionStep, Tfl.Api.Presentation.Entities",
              "cumulativeDistance": 123,
              "cumulativeTravelTime": 111,
              "description": " for 123 metres",
              "descriptionHeading": "Continue along ",
              "distance": 123,
              "latitude": 51.50988714247,
              "longitude": -0.07649197353000001,
              "pathAttribute": {
               "$type": "Tfl.Api.Presentation.Entities.PathAttribute, Tfl.Api.Presentation.Entities"
              },
              "skyDirection": 441,
              "skyDirectionDescription": "North",
              "streetName": "",
              "trackType": "None",
              "turnDirection": "STRAIGHT"
             },
             {
              "$type": "Tfl.Api.Presentation.Entities.InstructionStep, Tfl.Api.Presentation.Entities",
              "cumulativeDistance": 140,
              "cumulativeTravelTime": 126,
              "description": "on to Minories, continue for 17 metres",
              "descriptionHeading": "Take a slight right",
              "distance": 17,
              "latitude": 51.51004726435,
              "longitude": -0.07474148037,
              "pathAttribute": {
               "$type": "Tfl.Api.Presentation.Entities.PathAttribute, Tfl.Api.Presentation.Entities"
              },
              "skyDirection": 504,
              "skyDirectionDescription": "North",
              "streetName": "Minories",
              "trackType": "None",
              "turnDirection": "SLIGHT_RIGHT"
             },
             {
              "$type": "Tfl.Api.Presentation.Entities.InstructionStep, Tfl.Api.Presentation.Entities",
              "cumulativeDistance": 230,
              "cumulativeTravelTime": 207,
              "description": "on to Tower Hill, continue for 90 metres",
              "descriptionHeading": "Continue along ",
              "distance": 90,
              "latitude": 51.509919091069996,
              "longitude": -0.07460277288,
              "pathAttribute": {
               "$type": "Tfl.Api.Presentation.Entities.PathAttribute, Tfl.Api.Presentation.Entities"
              },
              "skyDirection": 500,
              "skyDirectionDescription": "North",
              "streetName": "Tower Hill",
              "trackType": "None",
              "turnDirection": "STRAIGHT"
             },
             {
              "$type": "Tfl.Api.Presentation.Entities.InstructionStep, Tfl.Api.Presentation.Entities",
              "cumulativeDistance": 546,
              "cumulativeTravelTime": 491,
              "description": "on to Tower Bridge Approach, continue for 316 metres",
              "descriptionHeading": "Take a slight right",
              "distance": 316,
              "latitude": 51.509285553039994,
              "longitude": -0.07380806143,
              "pathAttribute": {
               "$type": "Tfl.Api.Presentation.Entities.PathAttribute, Tfl.Api.Presentation.Entities"
              },
              "skyDirection": 190,
              "skyDirectionDescription": "North",
              "streetName": "Tower Bridge Approach",
              "trackType": "None",
              "turnDirection": "SLIGHT_RIGHT"
             },
             {
              "$type": "Tfl.Api.Presentation.Entities.InstructionStep, Tfl.Api.Presentation.Entities",
              "cumulativeDistance": 608,
              "cumulativeTravelTime": 546,
              "description": "on to Tower Bridge, continue for 62 metres",
              "descriptionHeading": "Continue along ",
              "distance": 62,
              "latitude": 51.50651207448,
              "longitude": -0.07467435327000001,
              "pathAttribute": {
               "$type": "Tfl.Api.Presentation.Entities.PathAttribute, Tfl.Api.Presentation.Entities"
              },
              "skyDirection": 202,
              "skyDirectionDescription": "North",
              "streetName": "Tower Bridge",
              "trackType": "None",
              "turnDirection": "STRAIGHT"
             }
            ],
            "summary": "Walk to 1 Tower Bridge, Tower Hamlets"
           },
           "isDisrupted": false,
           "mode": {
            "$type": "Tfl.Api.Presentation.Entities.Identifier, Tfl.Api.Presentation.Entities",
            "id": "walking",
            "name": "walking",
            "routeType": "Unknown",
            "status": "Unknown",
            "type": "Mode"
           },
           "obstacles": [
            {
             "$type": "Tfl.Api.Presentation.Entities.JourneyPlanner.Obstacle, Tfl.Api.Presentation.Entities",
             "incline": "UP",
             "position": "BEFORE",
             "stopId": 1000238,
             "type": "STAIRS"
            },
            {
             "$type": "Tfl.Api.Presentation.Entities.JourneyPlanner.Obstacle, Tfl.Api.Presentation.Entities",
             "incline": "UP",
             "position": "BEFORE",
             "stopId": 1000238,
             "type": "STAIRS"
            }
           ],
           "path": {
            "$type": "Tfl.Api.Presentation.Entities.JourneyPlanner.Path, Tfl.Api.Presentation.Entities",
            "elevation": [],
            "lineString": "[[51.50965277573, -0.0770062307],[51.50983534983, -0.07662385474],[51.50983298801, -0.07647984344],[51.50988714247, -0.07649197353],[51.50994604037, -0.07569688147],[51.50997087283, -0.07556613498],[51.51004726435, -0.07474148037],[51.50991909107, -0.07460277288],[51.50968024384, -0.07429580021],[51.5094690644, -0.07403089675],[51.50928555304, -0.07380806143],[51.50908879906, -0.07387400345],[51.50877593176, -0.07398807411],[51.50857823169, -0.0739964117],[51.50844390916, -0.07403089771],[51.50782550511, -0.07415784955],[51.50715365551, -0.07431587169],[51.50694815118, -0.07439658728],[51.50688571945, -0.07442803979],[51.50651207448, -0.07467435327],[51.50599630145, -0.07502752221]]",
            "stopPoints": []
           },
           "plannedWorks": [],
           "routeOptions": [
            {
             "$type": "Tfl.Api.Presentation.Entities.JourneyPlanner.RouteOption, Tfl.Api.Presentation.Entities",
             "directions": [
              ""
             ],
             "name": ""
            }
           ]
          }
         ],
         "startDateTime": "2021-03-05T15:05:00"
        }
       ],
       "lines": [
        {
         "$type": "Tfl.Api.Presentation.Entities.Line, Tfl.Api.Presentation.Entities",
         "created": "2021-02-23T11:05:47.103Z",
         "crowding": {
          "$type": "Tfl.Api.Presentation.Entities.Crowding, Tfl.Api.Presentation.Entities"
         },
         "disruptions": [],
         "id": "district",
         "lineStatuses": [
          {
           "$type": "Tfl.Api.Presentation.Entities.LineStatus, Tfl.Api.Presentation.Entities",
           "created": "0001-01-01T00:00:00",
           "id": 0,
           "statusSeverity": 10,
           "statusSeverityDescription": "Good Service",
           "validityPeriods": []
          }
         ],
         "modeName": "tube",
         "modified": "2021-02-23T11:05:47.103Z",
         "name": "District",
         "routeSections": [],
         "serviceTypes": [
          {
           "$type": "Tfl.Api.Presentation.Entities.LineServiceTypeInfo, Tfl.Api.Presentation.Entities",
           "name": "Regular",
           "uri": "/Line/Route?ids=District&serviceTypes=Regular"
          }
         ]
        },
        {
         "$type": "Tfl.Api.Presentation.Entities.Line, Tfl.Api.Presentation.Entities",
         "created": "2021-02-23T11:05:47.103Z",
         "crowding": {
          "$type": "Tfl.Api.Presentation.Entities.Crowding, Tfl.Api.Presentation.Entities"
         },
         "disruptions": [],
         "id": "piccadilly",
         "lineStatuses": [
          {
           "$type": "Tfl.Api.Presentation.Entities.LineStatus, Tfl.Api.Presentation.Entities",
           "created": "0001-01-01T00:00:00",
           "id": 0,
           "statusSeverity": 10,
           "statusSeverityDescription": "Good Service",
           "validityPeriods": []
          }
         ],
         "modeName": "tube",
         "modified": "2021-02-23T11:05:47.103Z",
         "name": "Piccadilly",
         "routeSections": [],
         "serviceTypes": [
          {
           "$type": "Tfl.Api.Presentation.Entities.LineServiceTypeInfo, Tfl.Api.Presentation.Entities",
           "name": "Regular",
           "uri": "/Line/Route?ids=Piccadilly&serviceTypes=Regular"
          },
          {
           "$type": "Tfl.Api.Presentation.Entities.LineServiceTypeInfo, Tfl.Api.Presentation.Entities",
           "name": "Night",
           "uri": "/Line/Route?ids=Piccadilly&serviceTypes=Night"
          }
         ]
        }
       ],
       "recommendedMaxAgeMinutes": 5,
       "searchCriteria": {
        "$type": "Tfl.Api.Presentation.Entities.JourneyPlanner.SearchCriteria, Tfl.Api.Presentation.Entities",
        "dateTime": "2021-03-05T15:00:00",
        "dateTimeType": "Departing",
        "timeAdjustments": {
         "$type": "Tfl.Api.Presentation.Entities.JourneyPlanner.TimeAdjustments, Tfl.Api.Presentation.Entities",
         "earlier": {
          "$type": "Tfl.Api.Presentation.Entities.JourneyPlanner.TimeAdjustment, Tfl.Api.Presentation.Entities",
          "date": "20210305",
          "time": "1455",
          "timeIs": "departing",
          "uri": "/journey/journeyresults/51.46962511264,-0.44968473098/to/51.50599630145,-0.07502752221?mode=tube&time=1455&timeIs=departing&app_id=e5d1123c6c2e491c98b70b1f3e943b87&app_key=c2bfa03caef04faca902f1a58a966c69&date=20210305"
         },
         "earliest": {
          "$type": "Tfl.Api.Presentation.Entities.JourneyPlanner.TimeAdjustment, Tfl.Api.Presentation.Entities",
          "date": "20210305",
          "time": "0300",
          "timeIs": "departing",
          "uri": "/journey/journeyresults/51.46962511264,-0.44968473098/to/51.50599630145,-0.07502752221?mode=tube&time=0300&timeIs=departing&app_id=e5d1123c6c2e491c98b70b1f3e943b87&app_key=c2bfa03caef04faca902f1a58a966c69&date=20210305"
         },
         "later": {
          "$type": "Tfl.Api.Presentation.Entities.JourneyPlanner.TimeAdjustment, Tfl.Api.Presentation.Entities",
          "date": "20210305",
          "time": "1505",
          "timeIs": "departing",
          "uri": "/journey/journeyresults/51.46962511264,-0.44968473098/to/51.50599630145,-0.07502752221?mode=tube&time=1505&timeIs=departing&app_id=e5d1123c6c2e491c98b70b1f3e943b87&app_key=c2bfa03caef04faca902f1a58a966c69&date=20210305"
         },
         "latest": {
          "$type": "Tfl.Api.Presentation.Entities.JourneyPlanner.TimeAdjustment, Tfl.Api.Presentation.Entities",
          "date": "20210306",
          "time": "0300",
          "timeIs": "departing",
          "uri": "/journey/journeyresults/51.46962511264,-0.44968473098/to/51.50599630145,-0.07502752221?mode=tube&time=0300&timeIs=departing&app_id=e5d1123c6c2e491c98b70b1f3e943b87&app_key=c2bfa03caef04faca902f1a58a966c69&date=20210306"
         }
        }
       },
       "stopMessages": []
      },
      "text/plain": [
       "<IPython.core.display.JSON object>"
      ]
     },
     "execution_count": 38,
     "metadata": {
      "application/json": {
       "expanded": false,
       "root": "root"
      }
     },
     "output_type": "execute_result"
    }
   ],
   "source": [
    "tube_journey_json = tube_journey_res.json()\n",
    "JSON(tube_journey_json)"
   ]
  },
  {
   "cell_type": "code",
   "execution_count": 41,
   "metadata": {},
   "outputs": [
    {
     "data": {
      "text/plain": [
       "80"
      ]
     },
     "execution_count": 41,
     "metadata": {},
     "output_type": "execute_result"
    }
   ],
   "source": [
    "tube_journey_time = (\n",
    "    tube_journey_json['journeys'][0]['duration']\n",
    ")\n",
    "tube_journey_time"
   ]
  },
  {
   "cell_type": "code",
   "execution_count": 26,
   "metadata": {},
   "outputs": [],
   "source": [
    "bus_journey_res = get_tfl(\n",
    "    f\"Journey/JourneyResults/{heathrow_airport}/to/{tower_bridge}\",\n",
    "    mode=\"bus\",\n",
    "    time=\"1500\",\n",
    "    timeIs=\"departing\"\n",
    ")"
   ]
  },
  {
   "cell_type": "code",
   "execution_count": 43,
   "metadata": {},
   "outputs": [
    {
     "data": {
      "text/plain": [
       "211"
      ]
     },
     "execution_count": 43,
     "metadata": {},
     "output_type": "execute_result"
    }
   ],
   "source": [
    "bus_journey_json = bus_journey_res.json()\n",
    "bus_journey_time = (\n",
    "    bus_journey_json['journeys'][0]['duration']\n",
    ")\n",
    "bus_journey_time"
   ]
  },
  {
   "cell_type": "code",
   "execution_count": 44,
   "metadata": {},
   "outputs": [
    {
     "name": "stdout",
     "output_type": "stream",
     "text": [
      "Planned Duration:\n",
      "Bus: 211 minutes\n",
      "Tube: 80 minutes\n"
     ]
    }
   ],
   "source": [
    "print(\"Planned Duration:\")\n",
    "print(f\"Bus: {bus_journey_time} minutes\")\n",
    "print(f\"Tube: {tube_journey_time} minutes\")"
   ]
  },
  {
   "cell_type": "code",
   "execution_count": null,
   "metadata": {},
   "outputs": [],
   "source": []
  }
 ],
 "metadata": {
  "kernelspec": {
   "display_name": "london",
   "language": "python",
   "name": "london"
  },
  "language_info": {
   "codemirror_mode": {
    "name": "ipython",
    "version": 3
   },
   "file_extension": ".py",
   "mimetype": "text/x-python",
   "name": "python",
   "nbconvert_exporter": "python",
   "pygments_lexer": "ipython3",
   "version": "3.8.8"
  }
 },
 "nbformat": 4,
 "nbformat_minor": 4
}
