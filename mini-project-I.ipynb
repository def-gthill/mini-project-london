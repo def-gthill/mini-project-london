{
 "cells": [
  {
   "cell_type": "markdown",
   "metadata": {},
   "source": [
    "# Mini-Project I\n",
    "During this project, we will practice handling of complex lists and dictionaries in Python. Plus, we will learn how to work with API documentation. Don't be afraid to search for the information in the [**documentation**](https://api.tfl.gov.uk/swagger/ui/index.html?url=/swagger/docs/v1#!/AccidentStats/AccidentStats_Get).\n",
    "\n",
    "Let's go to the tasks, we have some parsing to do :)!!"
   ]
  },
  {
   "cell_type": "code",
   "execution_count": 1,
   "metadata": {},
   "outputs": [],
   "source": [
    "import requests as re\n",
    "\n",
    "import tfl_env as env"
   ]
  },
  {
   "cell_type": "markdown",
   "metadata": {},
   "source": [
    "## Demo"
   ]
  },
  {
   "cell_type": "code",
   "execution_count": 2,
   "metadata": {},
   "outputs": [],
   "source": [
    "app_id = env.PRIMARY_KEY\n",
    "app_key = env.SECONDARY_KEY\n",
    "url_append = f'?app_id={app_id}&app_key={app_key}' "
   ]
  },
  {
   "cell_type": "code",
   "execution_count": 3,
   "metadata": {},
   "outputs": [
    {
     "name": "stdout",
     "output_type": "stream",
     "text": [
      "?app_id=e5d1123c6c2e491c98b70b1f3e943b87&app_key=c2bfa03caef04faca902f1a58a966c69\n"
     ]
    }
   ],
   "source": [
    "print(url_append)"
   ]
  },
  {
   "cell_type": "code",
   "execution_count": 4,
   "metadata": {},
   "outputs": [],
   "source": [
    "def get_tfl(endpoint, **params):\n",
    "    params[\"app_id\"] = app_id\n",
    "    params[\"app_key\"] = app_key\n",
    "    return re.get(\n",
    "        f\"https://api.tfl.gov.uk/{endpoint}\",\n",
    "        params\n",
    "    )"
   ]
  },
  {
   "cell_type": "code",
   "execution_count": 5,
   "metadata": {},
   "outputs": [],
   "source": [
    "res = get_tfl(\"AirQuality\")"
   ]
  },
  {
   "cell_type": "code",
   "execution_count": 6,
   "metadata": {},
   "outputs": [
    {
     "data": {
      "text/plain": [
       "200"
      ]
     },
     "execution_count": 6,
     "metadata": {},
     "output_type": "execute_result"
    }
   ],
   "source": [
    "res.status_code"
   ]
  },
  {
   "cell_type": "code",
   "execution_count": 7,
   "metadata": {},
   "outputs": [],
   "source": [
    "air = res.json()"
   ]
  },
  {
   "cell_type": "markdown",
   "metadata": {},
   "source": [
    "## Task\n",
    "Parse the dictionary and print the AirQuality predictions for tomorrow"
   ]
  },
  {
   "cell_type": "code",
   "execution_count": 8,
   "metadata": {},
   "outputs": [],
   "source": [
    "def find_with_value(ls, key, value):\n",
    "    \"\"\"\n",
    "    In list of dictionaries ``ls``, find the first dictionary\n",
    "    that maps ``key`` to ``value``\n",
    "    \"\"\"\n",
    "    for d in ls:\n",
    "        if key in d and d[key] == value:\n",
    "            return d"
   ]
  },
  {
   "cell_type": "code",
   "execution_count": 9,
   "metadata": {},
   "outputs": [
    {
     "name": "stdout",
     "output_type": "stream",
     "text": [
      "Nitrogen Dioxide: Low\n",
      "Ozone: Low\n",
      "PM10 Particulate: Low\n",
      "PM2.5 Particulate: Low\n",
      "Sulphur Dioxide: Low\n"
     ]
    }
   ],
   "source": [
    "forecast = find_with_value(\n",
    "    air['currentForecast'], 'forecastType', 'Future'\n",
    ")\n",
    "pollutant_types = {\n",
    "    'Nitrogen Dioxide': 'nO2Band',\n",
    "    'Ozone': 'o3Band',\n",
    "    'PM10 Particulate': 'pM10Band',\n",
    "    'PM2.5 Particulate': 'pM25Band',\n",
    "    'Sulphur Dioxide': 'sO2Band',\n",
    "}\n",
    "forecast_string = \"\\n\".join(\n",
    "    f\"{name}: {forecast[key]}\" for name, key in pollutant_types.items()\n",
    ")\n",
    "print(forecast_string)"
   ]
  },
  {
   "cell_type": "markdown",
   "metadata": {},
   "source": [
    "## Task\n",
    "What are the different modes of transport which are operated by Transport for London? How many modes do they have?\n",
    "\n",
    "Print the list with different modes of transport, plus their count. Example output:\n",
    "```\n",
    "[bus, cable-car,.....]\n",
    "Number of different modes of transport is: xyz\n",
    "```\n",
    "\n",
    "We need to search the documentation for correct request."
   ]
  },
  {
   "cell_type": "code",
   "execution_count": 10,
   "metadata": {},
   "outputs": [],
   "source": [
    "mode_res = get_tfl(\"Line/Meta/Modes\")"
   ]
  },
  {
   "cell_type": "code",
   "execution_count": 11,
   "metadata": {},
   "outputs": [],
   "source": [
    "mode_json = mode_res.json()"
   ]
  },
  {
   "cell_type": "code",
   "execution_count": 12,
   "metadata": {},
   "outputs": [
    {
     "name": "stdout",
     "output_type": "stream",
     "text": [
      "[bus, cable-car, cycle-hire, dlr, overground, replacement-bus, river-bus, river-tour, tflrail, tram, tube]\n",
      "There are 11 different modes of transport\n"
     ]
    }
   ],
   "source": [
    "modes = [mode['modeName'] for mode in mode_json if mode['isTflService']]\n",
    "print(f\"[{', '.join(modes)}]\")\n",
    "print(f\"There are {len(modes)} different modes of transport\")"
   ]
  },
  {
   "cell_type": "markdown",
   "metadata": {},
   "source": [
    "## Task\n",
    "How many BikePoints in London are operated by Transport for London? How many docks are in **all** BikePoints? There is the information for empty and full docks for each BikePoint."
   ]
  },
  {
   "cell_type": "code",
   "execution_count": 13,
   "metadata": {},
   "outputs": [],
   "source": [
    "bike_res = get_tfl(\"BikePoint\")"
   ]
  },
  {
   "cell_type": "code",
   "execution_count": 14,
   "metadata": {},
   "outputs": [
    {
     "name": "stdout",
     "output_type": "stream",
     "text": [
      "There are 792 BikePoints in London\n"
     ]
    }
   ],
   "source": [
    "bike_json = bike_res.json()\n",
    "print(f\"There are {len(bike_json)} BikePoints in London\")"
   ]
  },
  {
   "cell_type": "code",
   "execution_count": 15,
   "metadata": {},
   "outputs": [
    {
     "name": "stdout",
     "output_type": "stream",
     "text": [
      "There are 21056 total docks at all BikePoints\n"
     ]
    }
   ],
   "source": [
    "total_docks = sum(\n",
    "    int(\n",
    "        find_with_value(\n",
    "            bike_point['additionalProperties'], 'key', 'NbDocks'\n",
    "        )['value']\n",
    "    )\n",
    "    for bike_point in bike_json\n",
    ")\n",
    "print(f\"There are {total_docks} total docks at all BikePoints\")"
   ]
  },
  {
   "cell_type": "markdown",
   "metadata": {},
   "source": [
    "## Task\n",
    "How many tube and bus lines are in London? Print names of all tube lines."
   ]
  },
  {
   "cell_type": "code",
   "execution_count": 16,
   "metadata": {},
   "outputs": [],
   "source": [
    "tube_line_res = get_tfl(\"Line/Mode/tube\")"
   ]
  },
  {
   "cell_type": "code",
   "execution_count": 17,
   "metadata": {},
   "outputs": [],
   "source": [
    "bus_line_res = get_tfl(\"Line/Mode/bus\")"
   ]
  },
  {
   "cell_type": "code",
   "execution_count": 18,
   "metadata": {},
   "outputs": [
    {
     "name": "stdout",
     "output_type": "stream",
     "text": [
      "There are 11 tube lines and 679 bus lines\n"
     ]
    }
   ],
   "source": [
    "tube_json = tube_line_res.json()\n",
    "bus_json = bus_line_res.json()\n",
    "print(f\"There are {len(tube_json)} tube lines and {len(bus_json)} bus lines\")"
   ]
  },
  {
   "cell_type": "code",
   "execution_count": 19,
   "metadata": {},
   "outputs": [
    {
     "name": "stdout",
     "output_type": "stream",
     "text": [
      "Bakerloo\n",
      "Central\n",
      "Circle\n",
      "District\n",
      "Hammersmith & City\n",
      "Jubilee\n",
      "Metropolitan\n",
      "Northern\n",
      "Piccadilly\n",
      "Victoria\n",
      "Waterloo & City\n"
     ]
    }
   ],
   "source": [
    "for line in tube_json:\n",
    "    print(line['name'])"
   ]
  },
  {
   "cell_type": "markdown",
   "metadata": {},
   "source": [
    "## Task\n",
    "How many stations are on the `Victoria` line?"
   ]
  },
  {
   "cell_type": "code",
   "execution_count": 20,
   "metadata": {},
   "outputs": [],
   "source": [
    "victoria_id = find_with_value(tube_json, 'name', 'Victoria')['id']\n",
    "victoria_res = get_tfl(f\"Line/{victoria_id}/StopPoints\")"
   ]
  },
  {
   "cell_type": "code",
   "execution_count": 21,
   "metadata": {},
   "outputs": [
    {
     "name": "stdout",
     "output_type": "stream",
     "text": [
      "There are 16 stations on the Victoria line\n"
     ]
    }
   ],
   "source": [
    "victoria_json = victoria_res.json()\n",
    "print(f\"There are {len(victoria_json)} stations on the Victoria line\")"
   ]
  },
  {
   "cell_type": "markdown",
   "metadata": {},
   "source": [
    "## Task\n",
    "Plan the journey from Heathrow Airport to Tower Bridge using Bus and Tube. Which way is faster? Example output:\n",
    "```\n",
    "Planned duration:\n",
    "Bus: x minutes\n",
    "Tube: y minutes\n",
    "```\n",
    "\n",
    "We need to search the documentation for correct requests and parameters we need."
   ]
  },
  {
   "cell_type": "code",
   "execution_count": 22,
   "metadata": {},
   "outputs": [],
   "source": [
    "tube_journey_res_ambiguous = get_tfl(\n",
    "    \"Journey/JourneyResults/HeathrowAirport/to/TowerBridge\",\n",
    "    mode=\"tube\",\n",
    ")"
   ]
  },
  {
   "cell_type": "code",
   "execution_count": 23,
   "metadata": {},
   "outputs": [],
   "source": [
    "#tube_journey_res_ambiguous.json()"
   ]
  },
  {
   "cell_type": "code",
   "execution_count": 24,
   "metadata": {},
   "outputs": [],
   "source": [
    "# \"Heathrow Airport\" is ambiguous. Use the lat/long for Terminal 2:\n",
    "heathrow_airport = \"51.46962511264,-0.44968473098\"\n",
    "# \"Tower Bridge\" is ambiguous. Use the lat/long:\n",
    "tower_bridge = \"51.50599630145,-0.07502752221\"\n",
    "tube_journey_res = get_tfl(\n",
    "    f\"Journey/JourneyResults/{heathrow_airport}/to/{tower_bridge}\",\n",
    "    mode=\"tube\",\n",
    "    time=\"1500\",\n",
    "    timeIs=\"departing\",\n",
    ")"
   ]
  },
  {
   "cell_type": "code",
   "execution_count": 25,
   "metadata": {},
   "outputs": [
    {
     "data": {
      "text/plain": [
       "80"
      ]
     },
     "execution_count": 25,
     "metadata": {},
     "output_type": "execute_result"
    }
   ],
   "source": [
    "tube_journey_json = tube_journey_res.json()\n",
    "tube_journey_time = min(\n",
    "    journey['duration'] for journey in tube_journey_json['journeys']\n",
    ")\n",
    "tube_journey_time"
   ]
  },
  {
   "cell_type": "code",
   "execution_count": 26,
   "metadata": {},
   "outputs": [],
   "source": [
    "bus_journey_res = get_tfl(\n",
    "    f\"Journey/JourneyResults/{heathrow_airport}/to/{tower_bridge}\",\n",
    "    mode=\"bus\",\n",
    "    time=\"1500\",\n",
    "    timeIs=\"departing\"\n",
    ")"
   ]
  },
  {
   "cell_type": "code",
   "execution_count": 27,
   "metadata": {},
   "outputs": [
    {
     "data": {
      "text/plain": [
       "209"
      ]
     },
     "execution_count": 27,
     "metadata": {},
     "output_type": "execute_result"
    }
   ],
   "source": [
    "bus_journey_json = bus_journey_res.json()\n",
    "bus_journey_time = min(\n",
    "    journey['duration'] for journey in bus_journey_json['journeys']\n",
    ")\n",
    "bus_journey_time"
   ]
  },
  {
   "cell_type": "code",
   "execution_count": 28,
   "metadata": {},
   "outputs": [
    {
     "name": "stdout",
     "output_type": "stream",
     "text": [
      "Planned Duration:\n",
      "Bus: 209 minutes\n",
      "Tube: 80 minutes\n"
     ]
    }
   ],
   "source": [
    "print(\"Planned Duration:\")\n",
    "print(f\"Bus: {bus_journey_time} minutes\")\n",
    "print(f\"Tube: {tube_journey_time} minutes\")"
   ]
  }
 ],
 "metadata": {
  "kernelspec": {
   "display_name": "london",
   "language": "python",
   "name": "london"
  },
  "language_info": {
   "codemirror_mode": {
    "name": "ipython",
    "version": 3
   },
   "file_extension": ".py",
   "mimetype": "text/x-python",
   "name": "python",
   "nbconvert_exporter": "python",
   "pygments_lexer": "ipython3",
   "version": "3.8.8"
  }
 },
 "nbformat": 4,
 "nbformat_minor": 4
}
